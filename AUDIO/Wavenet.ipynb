{
 "cells": [
  {
   "cell_type": "code",
   "execution_count": 1,
   "metadata": {},
   "outputs": [
    {
     "name": "stderr",
     "output_type": "stream",
     "text": [
      "c:\\Users\\ParkMinSu\\AppData\\Local\\Programs\\Python\\Python37\\lib\\site-packages\\tqdm\\auto.py:22: TqdmWarning: IProgress not found. Please update jupyter and ipywidgets. See https://ipywidgets.readthedocs.io/en/stable/user_install.html\n",
      "  from .autonotebook import tqdm as notebook_tqdm\n"
     ]
    },
    {
     "name": "stdout",
     "output_type": "stream",
     "text": [
      "using cuda\n"
     ]
    }
   ],
   "source": [
    "import torch\n",
    "import torchvision\n",
    "import matplotlib.pyplot as plt\n",
    "import numpy\n",
    "\n",
    "device = 'cuda' if torch.cuda.is_available() else 'cpu'\n",
    "\n",
    "print(\"using\", device)\n",
    "\n",
    "torch.manual_seed(777)\n",
    "if device == 'cuda':\n",
    "    torch.cuda.manual_seed(777)"
   ]
  },
  {
   "cell_type": "code",
   "execution_count": 2,
   "metadata": {},
   "outputs": [],
   "source": [
    "class Wavenet(torch.nn.Module):\n",
    "    def __init__(self, class_num, hidden_channels, cond_channels, layer_num, repeat_num):\n",
    "        super(Wavenet, self).__init__()\n",
    "        self.class_num = class_num\n",
    "        self.hidden_channels = hidden_channels\n",
    "        self.cond_channels = cond_channels\n",
    "        self.layer_num = layer_num\n",
    "        self.repeat_num = repeat_num\n",
    "        self.casual_conv = torch.nn.Conv1d(class_num, hidden_channels, kernel_size=1)\n",
    "        \n",
    "        self.residual_list = torch.nn.ModuleList()\n",
    "        for i in range(repeat_num):\n",
    "            for j in range(layer_num):\n",
    "                dil = 2**j\n",
    "                self.residual_list.append(dil_and_act(hidden_channels, cond_channels, dil))\n",
    "        \n",
    "        self.relu = torch.nn.ReLU()\n",
    "        self.out_conv1 = torch.nn.Conv1d(hidden_channels, hidden_channels, kernel_size=1)\n",
    "        self.out_conv2 = torch.nn.Conv1d(hidden_channels, class_num, kernel_size=1)\n",
    "        self.softmax = torch.nn.Softmax(dim=1)\n",
    "    \n",
    "    def forward(self, x, cond):\n",
    "        skip = torch.zeros((x.shape[0], self.hidden_channels, x.shape[2]), dtype=torch.float, device=device)\n",
    "        x = self.casual_conv(x)\n",
    "        for i in range(self.repeat_num * self.layer_num):\n",
    "            y = self.residual_list[i](x, cond)\n",
    "            skip += y\n",
    "            x = x + y\n",
    "        \n",
    "        z = self.relu(skip)\n",
    "        z = self.out_conv1(z)\n",
    "        z = self.relu(skip)\n",
    "        z = self.out_conv2(z)\n",
    "        z = self.softmax(z)\n",
    "        return z\n",
    "\n",
    "\n",
    "    \n",
    "\n",
    "class dil_and_act(torch.nn.Module): # dilation & gated activation\n",
    "    def __init__(self, hidden_channels, cond_channels, dilation):\n",
    "        super(dil_and_act, self).__init__()\n",
    "        self.hidden_channels = hidden_channels\n",
    "        self.cond_channels = cond_channels\n",
    "        self.pad = torch.nn.ConstantPad1d((dilation, 0), 0)\n",
    "        self.dilation = dilation\n",
    "        self.tanh = torch.nn.Tanh()\n",
    "        self.sig = torch.nn.Sigmoid()\n",
    "        self.dil_to_tanh = torch.nn.Conv1d(hidden_channels, hidden_channels, kernel_size=2, dilation=dilation)\n",
    "        self.dil_to_sig = torch.nn.Conv1d(hidden_channels, hidden_channels, kernel_size=2, dilation=dilation)\n",
    "        self.con_to_tanh = torch.nn.Conv1d(cond_channels, hidden_channels, kernel_size=2, dilation=dilation)\n",
    "        self.con_to_sig = torch.nn.Conv1d(cond_channels, hidden_channels, kernel_size=2, dilation=dilation)\n",
    "        self.out_conv = torch.nn.Conv1d(hidden_channels, hidden_channels, kernel_size=1)\n",
    "    \n",
    "    def forward(self, x, cond):\n",
    "        pad_x = self.pad(x)\n",
    "        pad_cond = self.pad(cond)\n",
    "        tanh_in = self.dil_to_tanh(pad_x) + self.con_to_tanh(pad_cond)\n",
    "        sig_in = self.dil_to_sig(pad_x) + self.con_to_sig(pad_cond)\n",
    "        z = self.tanh(tanh_in) * self.sig(sig_in)\n",
    "        z = self.out_conv(z)\n",
    "        return z\n",
    "        "
   ]
  },
  {
   "cell_type": "code",
   "execution_count": 3,
   "metadata": {},
   "outputs": [],
   "source": [
    "net = Wavenet(256, 128, 128, 10, 2).to(device)"
   ]
  },
  {
   "cell_type": "code",
   "execution_count": 4,
   "metadata": {},
   "outputs": [
    {
     "data": {
      "text/plain": [
       "tensor([[[0.0036, 0.0036, 0.0034,  ..., 0.0028, 0.0027, 0.0029],\n",
       "         [0.0029, 0.0027, 0.0028,  ..., 0.0029, 0.0028, 0.0024],\n",
       "         [0.0052, 0.0046, 0.0043,  ..., 0.0048, 0.0048, 0.0043],\n",
       "         ...,\n",
       "         [0.0037, 0.0035, 0.0038,  ..., 0.0033, 0.0039, 0.0037],\n",
       "         [0.0034, 0.0035, 0.0031,  ..., 0.0026, 0.0028, 0.0031],\n",
       "         [0.0033, 0.0037, 0.0038,  ..., 0.0038, 0.0033, 0.0029]],\n",
       "\n",
       "        [[0.0035, 0.0037, 0.0037,  ..., 0.0028, 0.0032, 0.0028],\n",
       "         [0.0028, 0.0030, 0.0028,  ..., 0.0030, 0.0029, 0.0029],\n",
       "         [0.0047, 0.0047, 0.0043,  ..., 0.0048, 0.0045, 0.0043],\n",
       "         ...,\n",
       "         [0.0039, 0.0037, 0.0032,  ..., 0.0036, 0.0035, 0.0037],\n",
       "         [0.0033, 0.0035, 0.0033,  ..., 0.0035, 0.0024, 0.0028],\n",
       "         [0.0037, 0.0035, 0.0037,  ..., 0.0032, 0.0029, 0.0034]],\n",
       "\n",
       "        [[0.0037, 0.0039, 0.0033,  ..., 0.0029, 0.0030, 0.0033],\n",
       "         [0.0031, 0.0031, 0.0027,  ..., 0.0027, 0.0029, 0.0025],\n",
       "         [0.0046, 0.0042, 0.0042,  ..., 0.0044, 0.0042, 0.0042],\n",
       "         ...,\n",
       "         [0.0038, 0.0035, 0.0036,  ..., 0.0034, 0.0032, 0.0035],\n",
       "         [0.0034, 0.0036, 0.0030,  ..., 0.0029, 0.0031, 0.0031],\n",
       "         [0.0034, 0.0034, 0.0035,  ..., 0.0033, 0.0032, 0.0030]],\n",
       "\n",
       "        ...,\n",
       "\n",
       "        [[0.0034, 0.0038, 0.0037,  ..., 0.0029, 0.0032, 0.0028],\n",
       "         [0.0029, 0.0026, 0.0030,  ..., 0.0026, 0.0026, 0.0022],\n",
       "         [0.0047, 0.0041, 0.0045,  ..., 0.0051, 0.0043, 0.0045],\n",
       "         ...,\n",
       "         [0.0034, 0.0040, 0.0039,  ..., 0.0030, 0.0038, 0.0036],\n",
       "         [0.0034, 0.0033, 0.0032,  ..., 0.0026, 0.0029, 0.0024],\n",
       "         [0.0034, 0.0035, 0.0036,  ..., 0.0032, 0.0033, 0.0032]],\n",
       "\n",
       "        [[0.0041, 0.0034, 0.0038,  ..., 0.0032, 0.0032, 0.0036],\n",
       "         [0.0030, 0.0030, 0.0026,  ..., 0.0026, 0.0023, 0.0025],\n",
       "         [0.0045, 0.0041, 0.0044,  ..., 0.0038, 0.0038, 0.0044],\n",
       "         ...,\n",
       "         [0.0039, 0.0036, 0.0032,  ..., 0.0037, 0.0035, 0.0037],\n",
       "         [0.0032, 0.0031, 0.0032,  ..., 0.0027, 0.0029, 0.0024],\n",
       "         [0.0033, 0.0035, 0.0033,  ..., 0.0033, 0.0035, 0.0031]],\n",
       "\n",
       "        [[0.0042, 0.0032, 0.0039,  ..., 0.0029, 0.0030, 0.0035],\n",
       "         [0.0030, 0.0028, 0.0025,  ..., 0.0026, 0.0022, 0.0024],\n",
       "         [0.0043, 0.0044, 0.0044,  ..., 0.0041, 0.0047, 0.0048],\n",
       "         ...,\n",
       "         [0.0032, 0.0032, 0.0038,  ..., 0.0035, 0.0034, 0.0035],\n",
       "         [0.0035, 0.0033, 0.0030,  ..., 0.0024, 0.0032, 0.0025],\n",
       "         [0.0034, 0.0037, 0.0033,  ..., 0.0031, 0.0030, 0.0027]]],\n",
       "       device='cuda:0', grad_fn=<SoftmaxBackward0>)"
      ]
     },
     "execution_count": 4,
     "metadata": {},
     "output_type": "execute_result"
    }
   ],
   "source": []
  }
 ],
 "metadata": {
  "kernelspec": {
   "display_name": "Python 3.7.9 64-bit",
   "language": "python",
   "name": "python3"
  },
  "language_info": {
   "codemirror_mode": {
    "name": "ipython",
    "version": 3
   },
   "file_extension": ".py",
   "mimetype": "text/x-python",
   "name": "python",
   "nbconvert_exporter": "python",
   "pygments_lexer": "ipython3",
   "version": "3.7.9"
  },
  "orig_nbformat": 4,
  "vscode": {
   "interpreter": {
    "hash": "020eb92898ac559bd98722b535e6235e035f297f752a3a61b26b02297b428980"
   }
  }
 },
 "nbformat": 4,
 "nbformat_minor": 2
}
