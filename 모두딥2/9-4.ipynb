{
 "cells": [
  {
   "cell_type": "markdown",
   "metadata": {},
   "source": [
    "batch normalization"
   ]
  },
  {
   "cell_type": "code",
   "execution_count": 19,
   "metadata": {},
   "outputs": [],
   "source": [
    "import torch\n",
    "import torchvision\n",
    "\n",
    "device = 'cuda' if torch.cuda.is_available() else 'cpu'\n",
    "torch.manual_seed(1)\n",
    "if device == 'cuda':\n",
    "    torch.cuda.manual_seed_all(1)"
   ]
  },
  {
   "cell_type": "code",
   "execution_count": 20,
   "metadata": {},
   "outputs": [],
   "source": [
    "learning_rate = 0.01\n",
    "training_epochs = 10\n",
    "batch_size = 32"
   ]
  },
  {
   "cell_type": "code",
   "execution_count": 21,
   "metadata": {},
   "outputs": [],
   "source": [
    "mnist_train = torchvision.datasets.MNIST(root = 'MNIST_data/', train=True, transform=torchvision.transforms.ToTensor(), download=True)\n",
    "mnist_test = torchvision.datasets.MNIST(root = 'MNIST_data/', train=False, transform=torchvision.transforms.ToTensor(), download=True)\n"
   ]
  },
  {
   "cell_type": "code",
   "execution_count": 22,
   "metadata": {},
   "outputs": [],
   "source": [
    "data_loader = torch.utils.data.DataLoader(dataset=mnist_train, batch_size=batch_size, shuffle=True, drop_last=True)"
   ]
  },
  {
   "cell_type": "code",
   "execution_count": 23,
   "metadata": {},
   "outputs": [],
   "source": [
    "linear1 = torch.nn.Linear(784, 32, bias=True)\n",
    "linear2 = torch.nn.Linear(32, 32, bias=True)\n",
    "linear3 = torch.nn.Linear(32, 10, bias=True)\n",
    "relu = torch.nn.ReLU()\n",
    "bn1 = torch.nn.BatchNorm1d(32)\n",
    "bn2 = torch.nn.BatchNorm1d(32)\n",
    "\n",
    "nn_linear1 = torch.nn.Linear(784, 32, bias=True)\n",
    "nn_linear2 = torch.nn.Linear(32, 32, bias=True)\n",
    "nn_linear3 = torch.nn.Linear(32, 10, bias=True)\n",
    "\n",
    "bn_model = torch.nn.Sequential(linear1, bn1, relu,\n",
    "                            linear2, bn2, relu,\n",
    "                            linear3).to(device)\n",
    "nn_model = torch.nn.Sequential(nn_linear1, relu,\n",
    "                               nn_linear2, relu,\n",
    "                               nn_linear3).to(device)\n",
    "\n",
    "criterion = torch.nn.CrossEntropyLoss().to(device)\n",
    "bn_optimizer = torch.optim.Adam(bn_model.parameters(), lr=learning_rate)\n",
    "nn_optimizer = torch.optim.Adam(nn_model.parameters(), lr=learning_rate)\n"
   ]
  },
  {
   "cell_type": "code",
   "execution_count": 24,
   "metadata": {},
   "outputs": [
    {
     "name": "stdout",
     "output_type": "stream",
     "text": [
      "Epoch: 0001 cost = bn : 0.302100966, nn : 0.298617792\n",
      "eval bn Accuracy : 0.9352999925613403\n",
      "eval nn Accuracy : 0.9390999674797058\n",
      "train bn Accuracy : 0.9410666823387146\n",
      "train nn Accuracy : 0.9447333216667175\n",
      "Epoch: 0002 cost = bn : 0.211172594, nn : 0.196754268\n",
      "eval bn Accuracy : 0.9384999871253967\n",
      "eval nn Accuracy : 0.9213999509811401\n",
      "train bn Accuracy : 0.9409166574478149\n",
      "train nn Accuracy : 0.9280499815940857\n",
      "Epoch: 0003 cost = bn : 0.186399662, nn : 0.177613062\n",
      "eval bn Accuracy : 0.942799985408783\n",
      "eval nn Accuracy : 0.9473999738693237\n",
      "train bn Accuracy : 0.9499666690826416\n",
      "train nn Accuracy : 0.9551500082015991\n",
      "Epoch: 0004 cost = bn : 0.178260933, nn : 0.171262613\n",
      "eval bn Accuracy : 0.9434999823570251\n",
      "eval nn Accuracy : 0.9458999633789062\n",
      "train bn Accuracy : 0.9517666697502136\n",
      "train nn Accuracy : 0.9498500227928162\n",
      "Epoch: 0005 cost = bn : 0.172060434, nn : 0.155702868\n",
      "eval bn Accuracy : 0.9407999515533447\n",
      "eval nn Accuracy : 0.9497999548912048\n",
      "train bn Accuracy : 0.9499666690826416\n",
      "train nn Accuracy : 0.9584833383560181\n",
      "Epoch: 0006 cost = bn : 0.163555989, nn : 0.156653487\n",
      "eval bn Accuracy : 0.95169997215271\n",
      "eval nn Accuracy : 0.9532999992370605\n",
      "train bn Accuracy : 0.9607000350952148\n",
      "train nn Accuracy : 0.9578500390052795\n",
      "Epoch: 0007 cost = bn : 0.153036221, nn : 0.149836465\n",
      "eval bn Accuracy : 0.9391999840736389\n",
      "eval nn Accuracy : 0.9531999826431274\n",
      "train bn Accuracy : 0.9486333727836609\n",
      "train nn Accuracy : 0.9614500403404236\n"
     ]
    }
   ],
   "source": [
    "total_batch = len(data_loader)\n",
    "for epoch in range(training_epochs):\n",
    "    bn_model.train()\n",
    "    bn_avg_cost = 0\n",
    "    nn_avg_cost = 0\n",
    "\n",
    "    for X, Y in data_loader:\n",
    "        X = X.view(-1, 28*28).to(device)\n",
    "        Y = Y.to(device)\n",
    "\n",
    "        bn_optimizer.zero_grad()\n",
    "        bn_prediction = bn_model(X)\n",
    "        bn_loss = criterion(bn_prediction, Y)\n",
    "        bn_loss.backward()\n",
    "        bn_optimizer.step()\n",
    "\n",
    "        nn_optimizer.zero_grad()\n",
    "        nn_prediction = nn_model(X)\n",
    "        nn_loss = criterion(nn_prediction, Y)\n",
    "        nn_loss.backward()\n",
    "        nn_optimizer.step()\n",
    "\n",
    "        bn_avg_cost += bn_loss.item() / total_batch\n",
    "        nn_avg_cost += nn_loss.item() / total_batch\n",
    "    \n",
    "    print('Epoch:', '%04d' % (epoch + 1), 'cost = bn : {:.9f}, nn : {:.9f}'.format(bn_avg_cost, nn_avg_cost))\n",
    "    \n",
    "    with torch.no_grad():\n",
    "        bn_model.eval()\n",
    "        X_test = mnist_test.data.view(-1, 28 * 28).float().to(device)\n",
    "        Y_test = mnist_test.targets.to(device)\n",
    "        bn_prediction = bn_model(X_test)\n",
    "        bn_correct_prediction = torch.argmax(bn_prediction, 1) == Y_test\n",
    "        nn_prediction = nn_model(X_test)\n",
    "        nn_correct_prediction = torch.argmax(nn_prediction, 1) == Y_test\n",
    "\n",
    "        bn_accuracy = bn_correct_prediction.float().mean()\n",
    "        print('eval bn Accuracy :', bn_accuracy.item())\n",
    "        nn_accuracy = nn_correct_prediction.float().mean()\n",
    "        print('eval nn Accuracy :', nn_accuracy.item())\n",
    "\n",
    "        X_train = mnist_train.data.view(-1, 28 * 28).float().to(device)\n",
    "        Y_train = mnist_train.targets.to(device)\n",
    "        bn_prediction = bn_model(X_train)\n",
    "        bn_correct_prediction = torch.argmax(bn_prediction, 1) == Y_train\n",
    "        nn_prediction = nn_model(X_train)\n",
    "        nn_correct_prediction = torch.argmax(nn_prediction, 1) == Y_train\n",
    "        bn_accuracy = bn_correct_prediction.float().mean()\n",
    "        print('train bn Accuracy :', bn_accuracy.item())\n",
    "        nn_accuracy = nn_correct_prediction.float().mean()\n",
    "        print('train nn Accuracy :', nn_accuracy.item())\n",
    "    \n",
    "print('Learning finished')"
   ]
  }
 ],
 "metadata": {
  "interpreter": {
   "hash": "f67e6345ed4365623c282e2628f58a8ac3d97e420735cebfc003674bed6fdf62"
  },
  "kernelspec": {
   "display_name": "Python 3.7.9 64-bit",
   "language": "python",
   "name": "python3"
  },
  "language_info": {
   "codemirror_mode": {
    "name": "ipython",
    "version": 3
   },
   "file_extension": ".py",
   "mimetype": "text/x-python",
   "name": "python",
   "nbconvert_exporter": "python",
   "pygments_lexer": "ipython3",
   "version": "3.7.9"
  },
  "orig_nbformat": 4
 },
 "nbformat": 4,
 "nbformat_minor": 2
}
