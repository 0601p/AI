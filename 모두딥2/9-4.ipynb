{
 "cells": [
  {
   "cell_type": "markdown",
   "metadata": {},
   "source": [
    "batch normalization"
   ]
  },
  {
   "cell_type": "code",
   "execution_count": 99,
   "metadata": {},
   "outputs": [],
   "source": [
    "import torch\n",
    "import torchvision\n",
    "\n",
    "device = 'cuda' if torch.cuda.is_available() else 'cpu'\n",
    "torch.manual_seed(1)\n",
    "if device == 'cuda':\n",
    "    torch.cuda.manual_seed_all(1)"
   ]
  },
  {
   "cell_type": "code",
   "execution_count": 100,
   "metadata": {},
   "outputs": [],
   "source": [
    "learning_rate = 0.01\n",
    "training_epochs = 10\n",
    "batch_size = 32"
   ]
  },
  {
   "cell_type": "code",
   "execution_count": 101,
   "metadata": {},
   "outputs": [],
   "source": [
    "mnist_train = torchvision.datasets.MNIST(root = 'MNIST_data/', train=True, transform=torchvision.transforms.ToTensor(), download=True)\n",
    "mnist_test = torchvision.datasets.MNIST(root = 'MNIST_data/', train=False, transform=torchvision.transforms.ToTensor(), download=True)\n"
   ]
  },
  {
   "cell_type": "code",
   "execution_count": 102,
   "metadata": {},
   "outputs": [],
   "source": [
    "train_loader = torch.utils.data.DataLoader(dataset=mnist_train, batch_size=batch_size, shuffle=True, drop_last=True)"
   ]
  },
  {
   "cell_type": "code",
   "execution_count": 103,
   "metadata": {},
   "outputs": [],
   "source": [
    "linear1 = torch.nn.Linear(784, 32, bias=True)\n",
    "linear2 = torch.nn.Linear(32, 32, bias=True)\n",
    "linear3 = torch.nn.Linear(32, 10, bias=True)\n",
    "relu = torch.nn.ReLU()\n",
    "bn1 = torch.nn.BatchNorm1d(32)\n",
    "bn2 = torch.nn.BatchNorm1d(32)\n",
    "\n",
    "nn_linear1 = torch.nn.Linear(784, 32, bias=True)\n",
    "nn_linear2 = torch.nn.Linear(32, 32, bias=True)\n",
    "nn_linear3 = torch.nn.Linear(32, 10, bias=True)\n",
    "\n",
    "bn_model = torch.nn.Sequential(linear1, bn1, relu,\n",
    "                            linear2, bn2, relu,\n",
    "                            linear3).to(device)\n",
    "nn_model = torch.nn.Sequential(nn_linear1, relu,\n",
    "                               nn_linear2, relu,\n",
    "                               nn_linear3).to(device)\n",
    "\n",
    "criterion = torch.nn.CrossEntropyLoss().to(device)\n",
    "bn_optimizer = torch.optim.Adam(bn_model.parameters(), lr=learning_rate)\n",
    "nn_optimizer = torch.optim.Adam(nn_model.parameters(), lr=learning_rate)\n"
   ]
  },
  {
   "cell_type": "code",
   "execution_count": 104,
   "metadata": {},
   "outputs": [
    {
     "name": "stdout",
     "output_type": "stream",
     "text": [
      "Epoch: 0001 cost = bn : 0.288282830, nn : 0.298617792\n",
      "eval bn Accuracy : 0.9541999697685242\n",
      "eval nn Accuracy : 0.9386999607086182\n",
      "train bn Accuracy : 0.9593333601951599\n",
      "train nn Accuracy : 0.9438499808311462\n",
      "Epoch: 0002 cost = bn : 0.176860546, nn : 0.196754268\n",
      "eval bn Accuracy : 0.9639999866485596\n",
      "eval nn Accuracy : 0.9287999868392944\n",
      "train bn Accuracy : 0.970550000667572\n",
      "train nn Accuracy : 0.934249997138977\n",
      "Epoch: 0003 cost = bn : 0.143006775, nn : 0.177613062\n",
      "eval bn Accuracy : 0.9657999873161316\n",
      "eval nn Accuracy : 0.9490999579429626\n",
      "train bn Accuracy : 0.9712666869163513\n",
      "train nn Accuracy : 0.958216667175293\n",
      "Epoch: 0004 cost = bn : 0.129210275, nn : 0.171262613\n",
      "eval bn Accuracy : 0.9668999910354614\n",
      "eval nn Accuracy : 0.9519999623298645\n",
      "train bn Accuracy : 0.9757833480834961\n",
      "train nn Accuracy : 0.9574833512306213\n",
      "Epoch: 0005 cost = bn : 0.120301018, nn : 0.155702868\n",
      "eval bn Accuracy : 0.9706999659538269\n",
      "eval nn Accuracy : 0.957099974155426\n",
      "train bn Accuracy : 0.9800500273704529\n",
      "train nn Accuracy : 0.9653833508491516\n",
      "Epoch: 0006 cost = bn : 0.112069308, nn : 0.156653487\n",
      "eval bn Accuracy : 0.9706999659538269\n",
      "eval nn Accuracy : 0.9554999470710754\n",
      "train bn Accuracy : 0.9803667068481445\n",
      "train nn Accuracy : 0.9604166746139526\n",
      "Epoch: 0007 cost = bn : 0.105974793, nn : 0.149836465\n",
      "eval bn Accuracy : 0.973099946975708\n",
      "eval nn Accuracy : 0.9558999538421631\n",
      "train bn Accuracy : 0.9826833605766296\n",
      "train nn Accuracy : 0.9638500213623047\n",
      "Epoch: 0008 cost = bn : 0.100996160, nn : 0.143191560\n",
      "eval bn Accuracy : 0.9738999605178833\n",
      "eval nn Accuracy : 0.9519999623298645\n",
      "train bn Accuracy : 0.9835333228111267\n",
      "train nn Accuracy : 0.9622833728790283\n",
      "Epoch: 0009 cost = bn : 0.097783658, nn : 0.143797912\n",
      "eval bn Accuracy : 0.973099946975708\n",
      "eval nn Accuracy : 0.9506999850273132\n",
      "train bn Accuracy : 0.9833333492279053\n",
      "train nn Accuracy : 0.9606666564941406\n",
      "Epoch: 0010 cost = bn : 0.093139471, nn : 0.136287679\n",
      "eval bn Accuracy : 0.9741999506950378\n",
      "eval nn Accuracy : 0.9508999586105347\n",
      "train bn Accuracy : 0.9845166802406311\n",
      "train nn Accuracy : 0.9607166647911072\n",
      "Learning finished\n"
     ]
    }
   ],
   "source": [
    "train_total_batch = len(train_loader)\n",
    "for epoch in range(training_epochs):\n",
    "    bn_model.train()\n",
    "    bn_accuracy_train = 0\n",
    "    nn_accuracy_train = 0\n",
    "    bn_accuracy_test = 0\n",
    "    nn_accuracy_test = 0\n",
    "    bn_avg_cost = 0\n",
    "    nn_avg_cost = 0\n",
    "\n",
    "    for X, Y in train_loader:\n",
    "        X = X.view(-1, 28*28).to(device)\n",
    "        Y = Y.to(device)\n",
    "\n",
    "        bn_optimizer.zero_grad()\n",
    "        bn_prediction = bn_model(X)\n",
    "        bn_loss = criterion(bn_prediction, Y)\n",
    "        bn_loss.backward()\n",
    "        bn_optimizer.step()\n",
    "\n",
    "        nn_optimizer.zero_grad()\n",
    "        nn_prediction = nn_model(X)\n",
    "        nn_loss = criterion(nn_prediction, Y)\n",
    "        nn_loss.backward()\n",
    "        nn_optimizer.step()\n",
    "\n",
    "        bn_avg_cost += bn_loss.item() / train_total_batch\n",
    "        nn_avg_cost += nn_loss.item() / train_total_batch\n",
    "    \n",
    "    print('Epoch:', '%04d' % (epoch + 1), 'cost = bn : {:.9f}, nn : {:.9f}'.format(bn_avg_cost, nn_avg_cost))\n",
    "\n",
    "    with torch.no_grad():\n",
    "        bn_model.eval()\n",
    "        X_test = (mnist_test.data.view(-1, 28 * 28)/255).float().to(device)\n",
    "        Y_test = mnist_test.targets.to(device)\n",
    "        bn_prediction = torch.argmax(bn_model(X_test), 1)\n",
    "        bn_correct_prediction = bn_prediction == Y_test\n",
    "        nn_prediction = torch.argmax(nn_model(X_test), 1)\n",
    "        nn_correct_prediction = nn_prediction == Y_test\n",
    "\n",
    "        bn_accuracy = bn_correct_prediction.float().mean()\n",
    "        print('eval bn Accuracy :', bn_accuracy.item())\n",
    "        nn_accuracy = nn_correct_prediction.float().mean()\n",
    "        print('eval nn Accuracy :', nn_accuracy.item())\n",
    "\n",
    "        X_train = (mnist_train.data.view(-1, 28 * 28)/255).float().to(device)\n",
    "        Y_train = mnist_train.targets.to(device)\n",
    "\n",
    "        bn_prediction = bn_model(X_train)\n",
    "        bn_correct_prediction = torch.argmax(bn_prediction, 1) == Y_train\n",
    "        nn_prediction = nn_model(X_train)\n",
    "        nn_correct_prediction = torch.argmax(nn_prediction, 1) == Y_train\n",
    "        bn_accuracy = bn_correct_prediction.float().mean()\n",
    "\n",
    "        print('train bn Accuracy :', bn_accuracy.item())\n",
    "        nn_accuracy = nn_correct_prediction.float().mean()\n",
    "        print('train nn Accuracy :', nn_accuracy.item())\n",
    "\n",
    "print('Learning finished')"
   ]
  },
  {
   "cell_type": "code",
   "execution_count": 105,
   "metadata": {},
   "outputs": [],
   "source": [
    "# transform은 dataloader로 불러올 때 진행되기 때문에 mnist_test 나 mnist_train을 직접 사용해 accuracy를 계산하는 이번 상황에서는 직접 /255를 함"
   ]
  }
 ],
 "metadata": {
  "interpreter": {
   "hash": "f67e6345ed4365623c282e2628f58a8ac3d97e420735cebfc003674bed6fdf62"
  },
  "kernelspec": {
   "display_name": "Python 3.7.9 64-bit",
   "language": "python",
   "name": "python3"
  },
  "language_info": {
   "codemirror_mode": {
    "name": "ipython",
    "version": 3
   },
   "file_extension": ".py",
   "mimetype": "text/x-python",
   "name": "python",
   "nbconvert_exporter": "python",
   "pygments_lexer": "ipython3",
   "version": "3.7.9"
  },
  "orig_nbformat": 4
 },
 "nbformat": 4,
 "nbformat_minor": 2
}
