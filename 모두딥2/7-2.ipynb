{
 "cells": [
  {
   "cell_type": "markdown",
   "metadata": {},
   "source": [
    "Mnist Dataset"
   ]
  },
  {
   "cell_type": "code",
   "execution_count": 68,
   "metadata": {},
   "outputs": [],
   "source": [
    "import torchvision\n",
    "import torch\n",
    "import random\n",
    "import matplotlib"
   ]
  },
  {
   "cell_type": "code",
   "execution_count": 69,
   "metadata": {},
   "outputs": [],
   "source": [
    "device = 'cuda' if torch.cuda.is_available() else 'cpu'\n",
    "\n",
    "random.seed(777)\n",
    "torch.manual_seed(777)\n",
    "if device == 'cuda':\n",
    "    torch.cuda.manual_seed(777)"
   ]
  },
  {
   "cell_type": "code",
   "execution_count": 70,
   "metadata": {},
   "outputs": [],
   "source": [
    "mnist_train = torchvision.datasets.MNIST(root = \"MNIST_data\", train=True, transform = torchvision.transforms.ToTensor(), download = True)\n",
    "mnist_test = torchvision.datasets.MNIST(root = \"MNIST_data\", train=False, transform = torchvision.transforms.ToTensor(), download = True)"
   ]
  },
  {
   "cell_type": "code",
   "execution_count": 71,
   "metadata": {},
   "outputs": [],
   "source": [
    "batch_size = 100\n",
    "data_loader = torch.utils.data.DataLoader(dataset=mnist_train, batch_size=batch_size, shuffle=True, drop_last=True)"
   ]
  },
  {
   "cell_type": "code",
   "execution_count": 72,
   "metadata": {},
   "outputs": [],
   "source": [
    "linear = torch.nn.Linear(28*28, 10, bias=True).to(device)\n",
    "\n",
    "training_epochs = 15\n",
    "criterion = torch.nn.CrossEntropyLoss().to(device)\n",
    "optimizer = torch.optim.SGD(linear.parameters(), lr=0.1)"
   ]
  },
  {
   "cell_type": "code",
   "execution_count": 73,
   "metadata": {},
   "outputs": [
    {
     "name": "stdout",
     "output_type": "stream",
     "text": [
      "Epoch:    1, cost=0.5351506471633911\n",
      "Epoch:    2, cost=0.3595777451992035\n",
      "Epoch:    3, cost=0.33126428723335266\n",
      "Epoch:    4, cost=0.31640467047691345\n",
      "Epoch:    5, cost=0.30710700154304504\n",
      "Epoch:    6, cost=0.30045655369758606\n",
      "Epoch:    7, cost=0.29493340849876404\n",
      "Epoch:    8, cost=0.29095619916915894\n",
      "Epoch:    9, cost=0.28707408905029297\n",
      "Epoch:   10, cost=0.2845156490802765\n",
      "Epoch:   11, cost=0.2819140553474426\n",
      "Epoch:   12, cost=0.27952685952186584\n",
      "Epoch:   13, cost=0.2776365876197815\n",
      "Epoch:   14, cost=0.2758747935295105\n",
      "Epoch:   15, cost=0.2744227349758148\n"
     ]
    }
   ],
   "source": [
    "for epoch in range(training_epochs):\n",
    "    avg_cost = 0\n",
    "    total_batch = len(data_loader)\n",
    "    for X, Y in data_loader:\n",
    "        X = X.view(-1, 28 * 28).to(device)\n",
    "        optimizer.zero_grad()\n",
    "        hypothesis = linear(X)\n",
    "        cost = criterion(hypothesis, Y)\n",
    "        cost.backward()\n",
    "        optimizer.step()\n",
    "        avg_cost += cost / total_batch\n",
    "    \n",
    "    print(\"Epoch: {:4d}, cost={}\".format(epoch+1, avg_cost))"
   ]
  },
  {
   "cell_type": "code",
   "execution_count": 74,
   "metadata": {},
   "outputs": [
    {
     "name": "stdout",
     "output_type": "stream",
     "text": [
      "Accuracy: {:4f} 0.8883000016212463\n"
     ]
    }
   ],
   "source": [
    "with torch.no_grad():\n",
    "    x_test = mnist_test.data.view(-1, 28 * 28).float().to(device)\n",
    "    y_test = mnist_test.targets.to(device)\n",
    "    # 강의와 다르지만 data, targets로 버전이 올라가며 이름이 바뀐 듯\n",
    "\n",
    "    prediction = linear(x_test)\n",
    "    correct_prediction = torch.argmax(prediction, 1) == y_test\n",
    "    accuracy = correct_prediction.float().mean()\n",
    "    print(\"Accuracy: {:4f}\", accuracy.item())\n",
    "    "
   ]
  },
  {
   "cell_type": "markdown",
   "metadata": {},
   "source": [
    "visualization"
   ]
  },
  {
   "cell_type": "code",
   "execution_count": 99,
   "metadata": {},
   "outputs": [
    {
     "name": "stdout",
     "output_type": "stream",
     "text": [
      "Label: 8\n",
      "prediction:  8\n"
     ]
    },
    {
     "data": {
      "image/png": "[encoded data removed]",
      "text/plain": [
       "<Figure size 432x288 with 1 Axes>"
      ]
     },
     "metadata": {
      "needs_background": "light"
     },
     "output_type": "display_data"
    }
   ],
   "source": [
    "r = random.randint(0, len(mnist_test) - 1)\n",
    "X_single_data = mnist_test.data[r].view(-1, 28*28).float().to(device)\n",
    "Y_single_data = mnist_test.targets[r:r+1].to(device)\n",
    "# 슬라이싱을 이용해 tensor(2) 와 같은 형태 -> tensor([2]) 와 같이 [] 넣어줄 수 있음\n",
    "print(\"Label: {}\".format(Y_single_data.item()))\n",
    "single_prediction = linear(X_single_data)\n",
    "print(\"prediction: \", torch.argmax(single_prediction, 1).item())\n",
    "\n",
    "matplotlib.pyplot.imshow(X_single_data.view(28, 28), cmap=\"Greys\", interpolation=\"nearest\")\n",
    "matplotlib.pyplot.show()"
   ]
  },
  {
   "cell_type": "code",
   "execution_count": null,
   "metadata": {},
   "outputs": [],
   "source": []
  }
 ],
 "metadata": {
  "interpreter": {
   "hash": "f67e6345ed4365623c282e2628f58a8ac3d97e420735cebfc003674bed6fdf62"
  },
  "kernelspec": {
   "display_name": "Python 3.7.9 64-bit",
   "language": "python",
   "name": "python3"
  },
  "language_info": {
   "codemirror_mode": {
    "name": "ipython",
    "version": 3
   },
   "file_extension": ".py",
   "mimetype": "text/x-python",
   "name": "python",
   "nbconvert_exporter": "python",
   "pygments_lexer": "ipython3",
   "version": "3.7.9"
  },
  "orig_nbformat": 4
 },
 "nbformat": 4,
 "nbformat_minor": 2
}
