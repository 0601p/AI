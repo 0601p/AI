{
 "cells": [
  {
   "cell_type": "markdown",
   "metadata": {},
   "source": [
    "RNN basics"
   ]
  },
  {
   "cell_type": "code",
   "execution_count": 2,
   "metadata": {},
   "outputs": [],
   "source": [
    "import torch\n",
    "import numpy"
   ]
  },
  {
   "cell_type": "code",
   "execution_count": 5,
   "metadata": {},
   "outputs": [],
   "source": [
    "input_size = 4\n",
    "hidden_size = 2\n",
    "\n",
    "h = [1, 0, 0, 0]\n",
    "e = [0, 1, 0, 0]\n",
    "l = [0, 0, 1, 0]\n",
    "o = [0, 0, 0, 1]\n",
    "input_data_np = numpy.array([[h, e, l, l, o],\n",
    "                             [e, o, l, l, l],\n",
    "                             [l, l, e, e, l]], dtype=numpy.float32)\n",
    "\n",
    "input_data = torch.Tensor(input_data_np)"
   ]
  },
  {
   "cell_type": "code",
   "execution_count": 6,
   "metadata": {},
   "outputs": [
    {
     "name": "stdout",
     "output_type": "stream",
     "text": [
      "tensor([[[-0.9182, -0.5260],\n",
      "         [-0.7699, -0.7038],\n",
      "         [-0.8832, -0.9176],\n",
      "         [-0.8832, -0.9176],\n",
      "         [-0.9456, -0.9264]],\n",
      "\n",
      "        [[-0.9511, -0.8528],\n",
      "         [-0.9884, -0.9674],\n",
      "         [-0.9811, -0.9698],\n",
      "         [-0.9811, -0.9698],\n",
      "         [-0.9828, -0.9709]],\n",
      "\n",
      "        [[-0.9820, -0.9695],\n",
      "         [-0.9842, -0.9722],\n",
      "         [-0.9670, -0.8919],\n",
      "         [-0.9670, -0.8919],\n",
      "         [-0.9842, -0.9722]]], grad_fn=<StackBackward0>) tensor([[[-0.9820, -0.9695],\n",
      "         [-0.9842, -0.9722],\n",
      "         [-0.9670, -0.8919],\n",
      "         [-0.9670, -0.8919],\n",
      "         [-0.9842, -0.9722]]], grad_fn=<StackBackward0>)\n"
     ]
    }
   ],
   "source": [
    "rnn = torch.nn.RNN(input_size, hidden_size)\n",
    "\n",
    "outputs, _status = rnn(input_data)\n",
    "\n",
    "print(outputs, _status)"
   ]
  },
  {
   "cell_type": "code",
   "execution_count": null,
   "metadata": {},
   "outputs": [],
   "source": []
  }
 ],
 "metadata": {
  "interpreter": {
   "hash": "f67e6345ed4365623c282e2628f58a8ac3d97e420735cebfc003674bed6fdf62"
  },
  "kernelspec": {
   "display_name": "Python 3.7.9 64-bit",
   "language": "python",
   "name": "python3"
  },
  "language_info": {
   "codemirror_mode": {
    "name": "ipython",
    "version": 3
   },
   "file_extension": ".py",
   "mimetype": "text/x-python",
   "name": "python",
   "nbconvert_exporter": "python",
   "pygments_lexer": "ipython3",
   "version": "3.7.9"
  },
  "orig_nbformat": 4
 },
 "nbformat": 4,
 "nbformat_minor": 2
}
