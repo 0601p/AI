{
 "cells": [
  {
   "cell_type": "markdown",
   "metadata": {},
   "source": [
    "imagefolder"
   ]
  },
  {
   "cell_type": "code",
   "execution_count": 72,
   "metadata": {},
   "outputs": [],
   "source": [
    "import torch\n",
    "import torchvision\n",
    "import visdom\n",
    "\n",
    "device = 'cuda' if torch.cuda.is_available() else 'cpu'\n",
    "torch.manual_seed(777)\n",
    "if device == 'cuda':\n",
    "    torch.cuda.manual_seed_all(777)"
   ]
  },
  {
   "cell_type": "code",
   "execution_count": 73,
   "metadata": {},
   "outputs": [
    {
     "name": "stderr",
     "output_type": "stream",
     "text": [
      "Setting up a new session...\n"
     ]
    },
    {
     "data": {
      "text/plain": [
       "''"
      ]
     },
     "execution_count": 73,
     "metadata": {},
     "output_type": "execute_result"
    }
   ],
   "source": [
    "vis = visdom.Visdom()\n",
    "vis.close(env='main')"
   ]
  },
  {
   "cell_type": "code",
   "execution_count": 74,
   "metadata": {},
   "outputs": [],
   "source": [
    "# train_data = torchvision.datasets.ImageFolder(\n",
    "#   root='icons/train_data_original', \n",
    "#   transform=torchvision.transforms.Resize((64, 64))\n",
    "#)\n",
    "train_data = torchvision.datasets.ImageFolder(\n",
    "    root='icons/train_data_resized', \n",
    "    transform=torchvision.transforms.ToTensor()\n",
    ")\n",
    "data_loader = torch.utils.data.DataLoader(dataset = train_data, batch_size=16, shuffle=True)"
   ]
  },
  {
   "cell_type": "code",
   "execution_count": 75,
   "metadata": {},
   "outputs": [],
   "source": [
    "test_batch_size = 16\n",
    "name_list = ['Facebook', 'Google', 'Instagram', 'Youtube']\n",
    "test_data = torchvision.datasets.ImageFolder(\n",
    "    root='icons/test_data', \n",
    "    transform=torchvision.transforms.ToTensor()\n",
    ")\n",
    "test_data_loader = torch.utils.data.DataLoader(dataset = test_data, batch_size=test_batch_size)"
   ]
  },
  {
   "cell_type": "code",
   "execution_count": 76,
   "metadata": {},
   "outputs": [
    {
     "data": {
      "text/plain": [
       "\"\\nfor num, value in enumerate(train_data):\\n    data, label = value\\n    print(num, data, label)\\n\\n    if label == 0:\\n        data.save('icons/train_data_resized/facebook/%d_%d.png'%(num, label))\\n    elif label == 1:\\n        data.save('icons/train_data_resized/google/%d_%d.png'%(num, label))\\n    elif label == 2:\\n        data.save('icons/train_data_resized/instagram/%d_%d.png'%(num, label))\\n    else:\\n        data.save('icons/train_data_resized/youtube/%d_%d.png'%(num, label))\\n\""
      ]
     },
     "execution_count": 76,
     "metadata": {},
     "output_type": "execute_result"
    }
   ],
   "source": [
    "'''\n",
    "for num, value in enumerate(train_data):\n",
    "    data, label = value\n",
    "    print(num, data, label)\n",
    "\n",
    "    if label == 0:\n",
    "        data.save('icons/train_data_resized/facebook/%d_%d.png'%(num, label))\n",
    "    elif label == 1:\n",
    "        data.save('icons/train_data_resized/google/%d_%d.png'%(num, label))\n",
    "    elif label == 2:\n",
    "        data.save('icons/train_data_resized/instagram/%d_%d.png'%(num, label))\n",
    "    else:\n",
    "        data.save('icons/train_data_resized/youtube/%d_%d.png'%(num, label))\n",
    "'''"
   ]
  },
  {
   "cell_type": "code",
   "execution_count": 77,
   "metadata": {},
   "outputs": [],
   "source": [
    "class CNN(torch.nn.Module):\n",
    "    def __init__(self) -> None:\n",
    "        super().__init__()\n",
    "        self.layer1 = torch.nn.Sequential(\n",
    "            torch.nn.Conv2d(3, 8, kernel_size=5),\n",
    "            torch.nn.ReLU(),\n",
    "            torch.nn.MaxPool2d(2)\n",
    "        )\n",
    "        self.layer2 = torch.nn.Sequential(\n",
    "            torch.nn.Conv2d(8, 16, kernel_size=3),\n",
    "            torch.nn.ReLU(),\n",
    "            torch.nn.MaxPool2d(2)\n",
    "        )\n",
    "        self.layer3 = torch.nn.Sequential(\n",
    "            torch.nn.Conv2d(16, 32, kernel_size=3),\n",
    "            torch.nn.ReLU(),\n",
    "            torch.nn.MaxPool2d(2)\n",
    "        )\n",
    "\n",
    "        self.fc1 = torch.nn.Linear(32*6*6, 1024, bias=True)\n",
    "        self.relu = torch.nn.ReLU()\n",
    "        self.fc2 = torch.nn.Linear(1024, 120, bias=True)\n",
    "        self.fc3 = torch.nn.Linear(120, 4, bias=True)\n",
    "        torch.nn.init.xavier_uniform_(self.fc1.weight)\n",
    "        torch.nn.init.xavier_uniform_(self.fc2.weight)\n",
    "    \n",
    "    def forward(self, x):\n",
    "        out = self.layer1(x)\n",
    "        out = self.layer2(out)\n",
    "        out = self.layer3(out)\n",
    "\n",
    "        out = out.view(out.size(0), -1)\n",
    "        out = self.fc1(out)\n",
    "        out = self.relu(out)\n",
    "        out = self.fc2(out)\n",
    "        out = self.relu(out)\n",
    "        out = self.fc3(out)\n",
    "        \n",
    "        return out\n",
    "\n",
    "    "
   ]
  },
  {
   "cell_type": "code",
   "execution_count": 78,
   "metadata": {},
   "outputs": [],
   "source": [
    "net = CNN().to(device)"
   ]
  },
  {
   "cell_type": "code",
   "execution_count": 79,
   "metadata": {},
   "outputs": [],
   "source": [
    "optimizer = torch.optim.Adam(net.parameters(), lr = 1e-4)\n",
    "loss_func = torch.nn.CrossEntropyLoss().to(device)"
   ]
  },
  {
   "cell_type": "code",
   "execution_count": 80,
   "metadata": {},
   "outputs": [],
   "source": [
    "loss_plt = vis.line(Y=torch.Tensor(1).zero_(),opts=dict(title='loss_tracker', legend=['loss'], showlegend=True), env='main')\n",
    "test_loss_plt = vis.line(Y=torch.Tensor(1).zero_(),opts=dict(title='test_loss_tracker', legend=['loss'], showlegend=True), env='main')\n",
    "accuracy_plt = vis.line(Y=torch.Tensor(1).zero_(),opts=dict(title='accuracy_tracker', legend=['accuracy'], showlegend=True), env='main')\n",
    "\n",
    "\n",
    "def graph_appender(loss_plot, loss_value, num):\n",
    "    ''' num, loss_value are Tensor '''\n",
    "    vis.line(X=num, Y=loss_value, win=loss_plot, update=\"append\")"
   ]
  },
  {
   "cell_type": "code",
   "execution_count": 81,
   "metadata": {},
   "outputs": [],
   "source": [
    "def test(test_data_load, idx, print_image = False):\n",
    "    for num, data in enumerate(test_data_load):\n",
    "        img, label = data\n",
    "        img = img.view(-1, 3, 64, 64).to(device)\n",
    "        label = label.to(device)\n",
    "        out = net(img)\n",
    "\n",
    "        prob = torch.max(torch.nn.Softmax(dim=1)(out) * 100, dim=1)\n",
    "        loss = loss_func(out, label)\n",
    "        \n",
    "        accuracy = (prob[1] == label).float().mean()\n",
    "        if print_image:\n",
    "            for i in range(test_batch_size):\n",
    "                vis.image(img[i], opts={'height' : 250, 'width' : 250, 'title' : ('image ' + str(i)), 'caption' : ('prediction : ' + name_list[prob[1][i]] + '(' + '{:.2f}'.format(prob[0][i].item()) + '%), label : ' + name_list[label[i]])}, env='main')\n",
    "\n",
    "        graph_appender(test_loss_plt, torch.Tensor([loss.item()]), torch.Tensor([idx]))\n",
    "        graph_appender(accuracy_plt, torch.Tensor([accuracy.item() * 100]), torch.Tensor([idx]))"
   ]
  },
  {
   "cell_type": "code",
   "execution_count": 82,
   "metadata": {},
   "outputs": [
    {
     "name": "stdout",
     "output_type": "stream",
     "text": [
      "[Epoch: 1] cost = 1.3856420516967773\n",
      "[Epoch: 2] cost = 1.3675309419631958\n",
      "[Epoch: 3] cost = 1.354541540145874\n",
      "[Epoch: 4] cost = 1.3395830392837524\n",
      "[Epoch: 5] cost = 1.3208688497543335\n",
      "[Epoch: 6] cost = 1.3002783060073853\n",
      "[Epoch: 7] cost = 1.2744436264038086\n",
      "[Epoch: 8] cost = 1.2437033653259277\n",
      "[Epoch: 9] cost = 1.2054898738861084\n",
      "[Epoch:10] cost = 1.1658623218536377\n",
      "[Epoch:11] cost = 1.1152877807617188\n",
      "[Epoch:12] cost = 1.0615448951721191\n",
      "[Epoch:13] cost = 0.9935574531555176\n",
      "[Epoch:14] cost = 0.9274929165840149\n",
      "[Epoch:15] cost = 0.8565378189086914\n",
      "[Epoch:16] cost = 0.7875544428825378\n",
      "[Epoch:17] cost = 0.7176052927970886\n",
      "[Epoch:18] cost = 0.6610107421875\n",
      "[Epoch:19] cost = 0.6110310554504395\n",
      "[Epoch:20] cost = 0.5609748959541321\n",
      "[Epoch:21] cost = 0.5325257182121277\n",
      "[Epoch:22] cost = 0.4942832589149475\n",
      "[Epoch:23] cost = 0.4910900294780731\n",
      "[Epoch:24] cost = 0.44812431931495667\n",
      "[Epoch:25] cost = 0.42189347743988037\n",
      "[Epoch:26] cost = 0.4019445776939392\n",
      "[Epoch:27] cost = 0.389055073261261\n",
      "[Epoch:28] cost = 0.36339089274406433\n",
      "[Epoch:29] cost = 0.34331974387168884\n",
      "[Epoch:30] cost = 0.33043670654296875\n",
      "[Epoch:31] cost = 0.3141622543334961\n",
      "[Epoch:32] cost = 0.30110007524490356\n",
      "[Epoch:33] cost = 0.2836327850818634\n",
      "[Epoch:34] cost = 0.2738566994667053\n",
      "[Epoch:35] cost = 0.2717750370502472\n",
      "[Epoch:36] cost = 0.2535976469516754\n",
      "[Epoch:37] cost = 0.23407156765460968\n",
      "[Epoch:38] cost = 0.24571581184864044\n",
      "[Epoch:39] cost = 0.22126738727092743\n",
      "[Epoch:40] cost = 0.2141190767288208\n",
      "[Epoch:41] cost = 0.23714607954025269\n",
      "[Epoch:42] cost = 0.17017939686775208\n",
      "[Epoch:43] cost = 0.2443276345729828\n",
      "[Epoch:44] cost = 0.1925782859325409\n",
      "[Epoch:45] cost = 0.18130195140838623\n",
      "[Epoch:46] cost = 0.16198116540908813\n",
      "[Epoch:47] cost = 0.14968989789485931\n",
      "[Epoch:48] cost = 0.146741583943367\n",
      "[Epoch:49] cost = 0.1351073682308197\n",
      "[Epoch:50] cost = 0.13214753568172455\n",
      "[Epoch:51] cost = 0.12108005583286285\n",
      "[Epoch:52] cost = 0.11788313090801239\n",
      "[Epoch:53] cost = 0.10591690242290497\n",
      "[Epoch:54] cost = 0.10749515891075134\n",
      "[Epoch:55] cost = 0.11771592497825623\n",
      "[Epoch:56] cost = 0.09480169415473938\n",
      "[Epoch:57] cost = 0.10288899391889572\n",
      "[Epoch:58] cost = 0.08213380724191666\n",
      "[Epoch:59] cost = 0.08203907310962677\n",
      "[Epoch:60] cost = 0.08183202147483826\n",
      "[Epoch:61] cost = 0.07618752866983414\n",
      "[Epoch:62] cost = 0.06298304349184036\n",
      "[Epoch:63] cost = 0.06447119265794754\n",
      "[Epoch:64] cost = 0.058259543031454086\n",
      "[Epoch:65] cost = 0.0548386387526989\n",
      "[Epoch:66] cost = 0.050227612257003784\n",
      "[Epoch:67] cost = 0.052654944360256195\n",
      "[Epoch:68] cost = 0.04489995166659355\n",
      "[Epoch:69] cost = 0.04547223448753357\n",
      "[Epoch:70] cost = 0.04214831441640854\n",
      "[Epoch:71] cost = 0.04090670123696327\n",
      "[Epoch:72] cost = 0.03721191734075546\n",
      "[Epoch:73] cost = 0.03523074835538864\n",
      "[Epoch:74] cost = 0.033536314964294434\n",
      "[Epoch:75] cost = 0.031593166291713715\n",
      "[Epoch:76] cost = 0.0293111689388752\n",
      "[Epoch:77] cost = 0.02815430238842964\n",
      "[Epoch:78] cost = 0.028124162927269936\n",
      "[Epoch:79] cost = 0.025888632982969284\n",
      "[Epoch:80] cost = 0.025693349540233612\n",
      "[Epoch:81] cost = 0.024493733420968056\n",
      "[Epoch:82] cost = 0.02256472222507\n",
      "[Epoch:83] cost = 0.02179114893078804\n",
      "[Epoch:84] cost = 0.020697617903351784\n",
      "[Epoch:85] cost = 0.01979549415409565\n",
      "[Epoch:86] cost = 0.01948261633515358\n",
      "[Epoch:87] cost = 0.01817852444946766\n",
      "[Epoch:88] cost = 0.01736823096871376\n",
      "[Epoch:89] cost = 0.016044434159994125\n",
      "[Epoch:90] cost = 0.015449292957782745\n",
      "[Epoch:91] cost = 0.015006872825324535\n",
      "[Epoch:92] cost = 0.014106113463640213\n",
      "[Epoch:93] cost = 0.013495434075593948\n",
      "[Epoch:94] cost = 0.012934761121869087\n",
      "[Epoch:95] cost = 0.012672541663050652\n",
      "[Epoch:96] cost = 0.01209244318306446\n",
      "[Epoch:97] cost = 0.011551966890692711\n",
      "[Epoch:98] cost = 0.011168798431754112\n",
      "[Epoch:99] cost = 0.010771864093840122\n",
      "[Epoch:100] cost = 0.010684531182050705\n",
      "Learning Finished!\n"
     ]
    }
   ],
   "source": [
    "total_batch = len(data_loader)\n",
    "\n",
    "epochs = 100\n",
    "for epoch in range(epochs):\n",
    "    avg_cost = 0.0\n",
    "    for num, data in enumerate(data_loader):\n",
    "        imgs, labels = data\n",
    "        imgs = imgs.to(device)\n",
    "        labels = labels.to(device)\n",
    "        optimizer.zero_grad()\n",
    "        out = net(imgs)\n",
    "        loss = loss_func(out, labels)\n",
    "        loss.backward()\n",
    "        optimizer.step()\n",
    "\n",
    "        avg_cost += loss / total_batch\n",
    "    \n",
    "    print('[Epoch:{:2d}] cost = {}'.format(epoch + 1, avg_cost))\n",
    "    graph_appender(loss_plt, torch.Tensor([avg_cost]), torch.Tensor([epoch]))\n",
    "\n",
    "    test(test_data_loader, epoch)\n",
    "print('Learning Finished!')"
   ]
  },
  {
   "cell_type": "code",
   "execution_count": 83,
   "metadata": {},
   "outputs": [],
   "source": [
    "test(test_data_loader, epoch, True)\n",
    "test(data_loader, 101, True)"
   ]
  }
 ],
 "metadata": {
  "interpreter": {
   "hash": "f67e6345ed4365623c282e2628f58a8ac3d97e420735cebfc003674bed6fdf62"
  },
  "kernelspec": {
   "display_name": "Python 3.7.9 64-bit",
   "language": "python",
   "name": "python3"
  },
  "language_info": {
   "codemirror_mode": {
    "name": "ipython",
    "version": 3
   },
   "file_extension": ".py",
   "mimetype": "text/x-python",
   "name": "python",
   "nbconvert_exporter": "python",
   "pygments_lexer": "ipython3",
   "version": "3.7.9"
  },
  "orig_nbformat": 4
 },
 "nbformat": 4,
 "nbformat_minor": 2
}
