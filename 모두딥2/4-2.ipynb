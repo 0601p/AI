{
 "cells": [
  {
   "cell_type": "markdown",
   "metadata": {},
   "source": [
    "Loading Data"
   ]
  },
  {
   "cell_type": "code",
   "execution_count": 16,
   "metadata": {},
   "outputs": [],
   "source": [
    "import torch"
   ]
  },
  {
   "cell_type": "code",
   "execution_count": 17,
   "metadata": {},
   "outputs": [],
   "source": [
    "class CustomDataset(torch.utils.data.Dataset):\n",
    "    def __init__(self) -> None:\n",
    "        self.x_data = [[73, 80, 75],\n",
    "                       [93, 88, 93],\n",
    "                       [89, 91, 80],\n",
    "                       [96, 98, 100],\n",
    "                       [73, 66, 70]]\n",
    "        self.y_data = [[152], [185], [180], [196], [142]]\n",
    "    \n",
    "    def __len__(self):\n",
    "        return len(self.x_data)\n",
    "    \n",
    "    def __getitem__(self, idx):\n",
    "        x = torch.FloatTensor(self.x_data[idx])\n",
    "        y = torch.FloatTensor(self.y_data[idx])\n",
    "\n",
    "        return x, y\n",
    "\n",
    "\n",
    "dataset = CustomDataset()"
   ]
  },
  {
   "cell_type": "code",
   "execution_count": 18,
   "metadata": {},
   "outputs": [],
   "source": [
    "dataloader = torch.utils.data.DataLoader(\n",
    "    dataset,\n",
    "    batch_size = 2,\n",
    "    shuffle = True\n",
    ")"
   ]
  },
  {
   "cell_type": "code",
   "execution_count": 19,
   "metadata": {},
   "outputs": [],
   "source": [
    "class MultivariateLinearRegressionModel(torch.nn.Module):\n",
    "    def __init__(self) -> None:\n",
    "        super().__init__()\n",
    "        self.linear = torch.nn.Linear(3, 1)\n",
    "    \n",
    "    def forward(self, x):\n",
    "        return self.linear(x)\n",
    "\n",
    "model = MultivariateLinearRegressionModel()\n",
    "\n",
    "# 강의랑 조금 다른데 이게 맞는거같음\n",
    "optimizer = torch.optim.SGD(model.parameters(), lr = 1e-5)"
   ]
  },
  {
   "cell_type": "code",
   "execution_count": 20,
   "metadata": {},
   "outputs": [
    {
     "name": "stdout",
     "output_type": "stream",
     "text": [
      "Epoch    1/20 batch: 1/3 Cost: 34483.199219\n",
      "Epoch    1/20 batch: 2/3 Cost: 11163.125977\n",
      "Epoch    1/20 batch: 3/3 Cost: 2114.905762\n",
      "Epoch    2/20 batch: 1/3 Cost: 889.258301\n",
      "Epoch    2/20 batch: 2/3 Cost: 646.457703\n",
      "Epoch    2/20 batch: 3/3 Cost: 273.097107\n",
      "Epoch    3/20 batch: 1/3 Cost: 42.392632\n",
      "Epoch    3/20 batch: 2/3 Cost: 5.731524\n",
      "Epoch    3/20 batch: 3/3 Cost: 28.855534\n",
      "Epoch    4/20 batch: 1/3 Cost: 17.723934\n",
      "Epoch    4/20 batch: 2/3 Cost: 0.361633\n",
      "Epoch    4/20 batch: 3/3 Cost: 16.158226\n",
      "Epoch    5/20 batch: 1/3 Cost: 20.457273\n",
      "Epoch    5/20 batch: 2/3 Cost: 5.362950\n",
      "Epoch    5/20 batch: 3/3 Cost: 2.317562\n",
      "Epoch    6/20 batch: 1/3 Cost: 6.068248\n",
      "Epoch    6/20 batch: 2/3 Cost: 14.188225\n",
      "Epoch    6/20 batch: 3/3 Cost: 18.497375\n",
      "Epoch    7/20 batch: 1/3 Cost: 3.268897\n",
      "Epoch    7/20 batch: 2/3 Cost: 17.690273\n",
      "Epoch    7/20 batch: 3/3 Cost: 13.460936\n",
      "Epoch    8/20 batch: 1/3 Cost: 5.536820\n",
      "Epoch    8/20 batch: 2/3 Cost: 21.243233\n",
      "Epoch    8/20 batch: 3/3 Cost: 14.654425\n",
      "Epoch    9/20 batch: 1/3 Cost: 5.430531\n",
      "Epoch    9/20 batch: 2/3 Cost: 19.889421\n",
      "Epoch    9/20 batch: 3/3 Cost: 1.519202\n",
      "Epoch   10/20 batch: 1/3 Cost: 12.627443\n",
      "Epoch   10/20 batch: 2/3 Cost: 19.882050\n",
      "Epoch   10/20 batch: 3/3 Cost: 0.801688\n",
      "Epoch   11/20 batch: 1/3 Cost: 17.121592\n",
      "Epoch   11/20 batch: 2/3 Cost: 4.272186\n",
      "Epoch   11/20 batch: 3/3 Cost: 22.242702\n",
      "Epoch   12/20 batch: 1/3 Cost: 26.843723\n",
      "Epoch   12/20 batch: 2/3 Cost: 12.986218\n",
      "Epoch   12/20 batch: 3/3 Cost: 0.029510\n",
      "Epoch   13/20 batch: 1/3 Cost: 19.192610\n",
      "Epoch   13/20 batch: 2/3 Cost: 17.046616\n",
      "Epoch   13/20 batch: 3/3 Cost: 0.000952\n",
      "Epoch   14/20 batch: 1/3 Cost: 8.142110\n",
      "Epoch   14/20 batch: 2/3 Cost: 24.830292\n",
      "Epoch   14/20 batch: 3/3 Cost: 1.417341\n",
      "Epoch   15/20 batch: 1/3 Cost: 0.804924\n",
      "Epoch   15/20 batch: 2/3 Cost: 17.137779\n",
      "Epoch   15/20 batch: 3/3 Cost: 15.489250\n",
      "Epoch   16/20 batch: 1/3 Cost: 5.359955\n",
      "Epoch   16/20 batch: 2/3 Cost: 11.012894\n",
      "Epoch   16/20 batch: 3/3 Cost: 27.091568\n",
      "Epoch   17/20 batch: 1/3 Cost: 11.866659\n",
      "Epoch   17/20 batch: 2/3 Cost: 17.326279\n",
      "Epoch   17/20 batch: 3/3 Cost: 0.587701\n",
      "Epoch   18/20 batch: 1/3 Cost: 16.352049\n",
      "Epoch   18/20 batch: 2/3 Cost: 0.148562\n",
      "Epoch   18/20 batch: 3/3 Cost: 17.813433\n",
      "Epoch   19/20 batch: 1/3 Cost: 18.793198\n",
      "Epoch   19/20 batch: 2/3 Cost: 4.982461\n",
      "Epoch   19/20 batch: 3/3 Cost: 4.137018\n",
      "Epoch   20/20 batch: 1/3 Cost: 13.766378\n",
      "Epoch   20/20 batch: 2/3 Cost: 5.370800\n",
      "Epoch   20/20 batch: 3/3 Cost: 22.981327\n"
     ]
    }
   ],
   "source": [
    "nb_epochs = 20\n",
    "for epoch in range(1, nb_epochs + 1):\n",
    "    for batch_idx, samples in enumerate(dataloader):\n",
    "        x_train, y_train = samples\n",
    "        prediction = model(x_train)\n",
    "        cost = torch.nn.functional.mse_loss(prediction, y_train)\n",
    "\n",
    "        optimizer.zero_grad()\n",
    "        cost.backward()\n",
    "        optimizer.step()\n",
    "\n",
    "        print('Epoch {:4d}/{} batch: {}/{} Cost: {:.6f}'.format(\n",
    "            epoch, nb_epochs, batch_idx+1, len(dataloader), cost.item()\n",
    "        ))"
   ]
  }
 ],
 "metadata": {
  "interpreter": {
   "hash": "916dbcbb3f70747c44a77c7bcd40155683ae19c65e1c03b4aa3499c5328201f1"
  },
  "kernelspec": {
   "display_name": "Python 3.8.10 64-bit",
   "language": "python",
   "name": "python3"
  },
  "language_info": {
   "codemirror_mode": {
    "name": "ipython",
    "version": 3
   },
   "file_extension": ".py",
   "mimetype": "text/x-python",
   "name": "python",
   "nbconvert_exporter": "python",
   "pygments_lexer": "ipython3",
   "version": "3.8.10"
  },
  "orig_nbformat": 4
 },
 "nbformat": 4,
 "nbformat_minor": 2
}
