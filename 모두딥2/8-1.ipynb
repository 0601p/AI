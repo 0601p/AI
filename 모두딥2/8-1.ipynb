{
 "cells": [
  {
   "cell_type": "markdown",
   "metadata": {},
   "source": [
    "Perceptron"
   ]
  },
  {
   "cell_type": "code",
   "execution_count": 4,
   "metadata": {},
   "outputs": [],
   "source": [
    "import torch\n",
    "device = \"cuda\" if torch.cuda.is_available() else \"cpu\""
   ]
  },
  {
   "cell_type": "code",
   "execution_count": 5,
   "metadata": {},
   "outputs": [],
   "source": [
    "X = torch.FloatTensor([[0, 0],  [0, 1], [1, 0], [1, 1]]).to(device)\n",
    "Y = torch.FloatTensor([[0], [1], [1], [0]]).to(device)"
   ]
  },
  {
   "cell_type": "code",
   "execution_count": 7,
   "metadata": {},
   "outputs": [
    {
     "name": "stdout",
     "output_type": "stream",
     "text": [
      "step:    0, cost:0.7981047034263611\n",
      "step:  100, cost:0.6931473612785339\n",
      "step:  200, cost:0.6931471824645996\n",
      "step:  300, cost:0.6931472420692444\n",
      "step:  400, cost:0.6931471824645996\n",
      "step:  500, cost:0.6931471824645996\n",
      "step:  600, cost:0.6931471824645996\n",
      "step:  700, cost:0.6931471824645996\n",
      "step:  800, cost:0.6931471824645996\n",
      "step:  900, cost:0.6931471824645996\n",
      "step: 1000, cost:0.6931471824645996\n",
      "step: 1100, cost:0.6931471824645996\n",
      "step: 1200, cost:0.6931471824645996\n",
      "step: 1300, cost:0.6931471824645996\n",
      "step: 1400, cost:0.6931471824645996\n",
      "step: 1500, cost:0.6931471824645996\n",
      "step: 1600, cost:0.6931471824645996\n",
      "step: 1700, cost:0.6931471824645996\n",
      "step: 1800, cost:0.6931471824645996\n",
      "step: 1900, cost:0.6931471824645996\n",
      "step: 2000, cost:0.6931471824645996\n",
      "step: 2100, cost:0.6931471824645996\n",
      "step: 2200, cost:0.6931471824645996\n",
      "step: 2300, cost:0.6931471824645996\n",
      "step: 2400, cost:0.6931471824645996\n",
      "step: 2500, cost:0.6931471824645996\n",
      "step: 2600, cost:0.6931471824645996\n",
      "step: 2700, cost:0.6931471824645996\n",
      "step: 2800, cost:0.6931471824645996\n",
      "step: 2900, cost:0.6931471824645996\n",
      "step: 3000, cost:0.6931471824645996\n",
      "step: 3100, cost:0.6931471824645996\n",
      "step: 3200, cost:0.6931471824645996\n",
      "step: 3300, cost:0.6931471824645996\n",
      "step: 3400, cost:0.6931471824645996\n",
      "step: 3500, cost:0.6931471824645996\n",
      "step: 3600, cost:0.6931471824645996\n",
      "step: 3700, cost:0.6931471824645996\n",
      "step: 3800, cost:0.6931471824645996\n",
      "step: 3900, cost:0.6931471824645996\n",
      "step: 4000, cost:0.6931471824645996\n",
      "step: 4100, cost:0.6931471824645996\n",
      "step: 4200, cost:0.6931471824645996\n",
      "step: 4300, cost:0.6931471824645996\n",
      "step: 4400, cost:0.6931471824645996\n",
      "step: 4500, cost:0.6931471824645996\n",
      "step: 4600, cost:0.6931471824645996\n",
      "step: 4700, cost:0.6931471824645996\n",
      "step: 4800, cost:0.6931471824645996\n",
      "step: 4900, cost:0.6931471824645996\n",
      "step: 5000, cost:0.6931471824645996\n",
      "step: 5100, cost:0.6931471824645996\n",
      "step: 5200, cost:0.6931471824645996\n",
      "step: 5300, cost:0.6931471824645996\n",
      "step: 5400, cost:0.6931471824645996\n",
      "step: 5500, cost:0.6931471824645996\n",
      "step: 5600, cost:0.6931471824645996\n",
      "step: 5700, cost:0.6931471824645996\n",
      "step: 5800, cost:0.6931471824645996\n",
      "step: 5900, cost:0.6931471824645996\n",
      "step: 6000, cost:0.6931471824645996\n",
      "step: 6100, cost:0.6931471824645996\n",
      "step: 6200, cost:0.6931471824645996\n",
      "step: 6300, cost:0.6931471824645996\n",
      "step: 6400, cost:0.6931471824645996\n",
      "step: 6500, cost:0.6931471824645996\n",
      "step: 6600, cost:0.6931471824645996\n",
      "step: 6700, cost:0.6931471824645996\n",
      "step: 6800, cost:0.6931471824645996\n",
      "step: 6900, cost:0.6931471824645996\n",
      "step: 7000, cost:0.6931471824645996\n",
      "step: 7100, cost:0.6931471824645996\n",
      "step: 7200, cost:0.6931471824645996\n",
      "step: 7300, cost:0.6931471824645996\n",
      "step: 7400, cost:0.6931471824645996\n",
      "step: 7500, cost:0.6931471824645996\n",
      "step: 7600, cost:0.6931471824645996\n",
      "step: 7700, cost:0.6931471824645996\n",
      "step: 7800, cost:0.6931471824645996\n",
      "step: 7900, cost:0.6931471824645996\n",
      "step: 8000, cost:0.6931471824645996\n",
      "step: 8100, cost:0.6931471824645996\n",
      "step: 8200, cost:0.6931471824645996\n",
      "step: 8300, cost:0.6931471824645996\n",
      "step: 8400, cost:0.6931471824645996\n",
      "step: 8500, cost:0.6931471824645996\n",
      "step: 8600, cost:0.6931471824645996\n",
      "step: 8700, cost:0.6931471824645996\n",
      "step: 8800, cost:0.6931471824645996\n",
      "step: 8900, cost:0.6931471824645996\n",
      "step: 9000, cost:0.6931471824645996\n",
      "step: 9100, cost:0.6931471824645996\n",
      "step: 9200, cost:0.6931471824645996\n",
      "step: 9300, cost:0.6931471824645996\n",
      "step: 9400, cost:0.6931471824645996\n",
      "step: 9500, cost:0.6931471824645996\n",
      "step: 9600, cost:0.6931471824645996\n",
      "step: 9700, cost:0.6931471824645996\n",
      "step: 9800, cost:0.6931471824645996\n",
      "step: 9900, cost:0.6931471824645996\n",
      "step:10000, cost:0.6931471824645996\n"
     ]
    }
   ],
   "source": [
    "linear = torch.nn.Linear(2, 1, bias=True)\n",
    "sigmoid = torch.nn.Sigmoid()\n",
    "model = torch.nn.Sequential(linear, sigmoid).to(device)\n",
    "criterion = torch.nn.BCELoss().to(device)\n",
    "optimizer = torch.optim.SGD(model.parameters(), lr=1)\n",
    "for step in range(10001):\n",
    "    optimizer.zero_grad()\n",
    "    hypothesis = model(X)\n",
    "    cost = criterion(hypothesis, Y)\n",
    "    cost.backward()\n",
    "    optimizer.step()\n",
    "    if step % 100 == 0:\n",
    "        print(\"step:{:5d}, cost:{}\".format(step, cost.item()))\n",
    "\n",
    "# 출력 결과롭터 학습이 제대로 되지 않음을 알 수 있음"
   ]
  },
  {
   "cell_type": "code",
   "execution_count": 8,
   "metadata": {},
   "outputs": [
    {
     "name": "stdout",
     "output_type": "stream",
     "text": [
      "tensor([[0.5000],\n",
      "        [0.5000],\n",
      "        [0.5000],\n",
      "        [0.5000]], grad_fn=<SigmoidBackward0>)\n"
     ]
    }
   ],
   "source": [
    "print(model(X))\n",
    "#0.5가 되게 학습하는 것이 한계"
   ]
  },
  {
   "cell_type": "code",
   "execution_count": null,
   "metadata": {},
   "outputs": [],
   "source": []
  }
 ],
 "metadata": {
  "interpreter": {
   "hash": "f67e6345ed4365623c282e2628f58a8ac3d97e420735cebfc003674bed6fdf62"
  },
  "kernelspec": {
   "display_name": "Python 3.7.9 64-bit",
   "language": "python",
   "name": "python3"
  },
  "language_info": {
   "codemirror_mode": {
    "name": "ipython",
    "version": 3
   },
   "file_extension": ".py",
   "mimetype": "text/x-python",
   "name": "python",
   "nbconvert_exporter": "python",
   "pygments_lexer": "ipython3",
   "version": "3.7.9"
  },
  "orig_nbformat": 4
 },
 "nbformat": 4,
 "nbformat_minor": 2
}
