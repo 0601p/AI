{
 "cells": [
  {
   "cell_type": "markdown",
   "metadata": {},
   "source": [
    "Deeper Look at GD"
   ]
  },
  {
   "cell_type": "code",
   "execution_count": 24,
   "metadata": {},
   "outputs": [],
   "source": [
    "import torch"
   ]
  },
  {
   "cell_type": "code",
   "execution_count": 25,
   "metadata": {},
   "outputs": [],
   "source": [
    "x_train = torch.FloatTensor([[1], [2], [3]])\n",
    "y_train = torch.FloatTensor([[1], [2], [3]])\n",
    "W = torch.zeros(1)\n",
    "\n",
    "nb_epochs = 10\n",
    "lr = 0.1"
   ]
  },
  {
   "cell_type": "code",
   "execution_count": 26,
   "metadata": {},
   "outputs": [
    {
     "name": "stdout",
     "output_type": "stream",
     "text": [
      "Epoch    1/10 W: 0.000, Cost: 4.666667\n",
      "Epoch    2/10 W: 0.933, Cost: 0.020741\n",
      "Epoch    3/10 W: 0.996, Cost: 0.000092\n",
      "Epoch    4/10 W: 1.000, Cost: 0.000000\n",
      "Epoch    5/10 W: 1.000, Cost: 0.000000\n",
      "Epoch    6/10 W: 1.000, Cost: 0.000000\n",
      "Epoch    7/10 W: 1.000, Cost: 0.000000\n",
      "Epoch    8/10 W: 1.000, Cost: 0.000000\n",
      "Epoch    9/10 W: 1.000, Cost: 0.000000\n",
      "Epoch   10/10 W: 1.000, Cost: 0.000000\n"
     ]
    }
   ],
   "source": [
    "for epoch in range(1, nb_epochs + 1):\n",
    "    hypothesis = x_train * W\n",
    "\n",
    "    cost = torch.mean((hypothesis - y_train) ** 2)\n",
    "    gradient = 2 * torch.mean((W * x_train - y_train) * x_train)\n",
    "\n",
    "    print('Epoch {:4d}/{} W: {:.3f}, Cost: {:.6f}'.format(\n",
    "        epoch, nb_epochs, W.item(), cost.item()\n",
    "    ))\n",
    "\n",
    "    W -= lr * gradient"
   ]
  },
  {
   "cell_type": "markdown",
   "metadata": {},
   "source": [
    "using torch.optim\n",
    "#torch.optim을 사용할 때는 requires_grad=True 로 설정해줘야함"
   ]
  },
  {
   "cell_type": "code",
   "execution_count": 27,
   "metadata": {},
   "outputs": [],
   "source": [
    "x_train = torch.FloatTensor([[1], [2], [3]])\n",
    "y_train = torch.FloatTensor([[1], [2], [3]])\n",
    "W = torch.zeros(1, requires_grad=True)\n",
    "\n",
    "optimizer = torch.optim.SGD([W], lr = 0.1)\n",
    "\n",
    "nb_epochs = 10"
   ]
  },
  {
   "cell_type": "code",
   "execution_count": 28,
   "metadata": {},
   "outputs": [
    {
     "name": "stdout",
     "output_type": "stream",
     "text": [
      "Epoch    1/10 W: 0.000, Cost: 4.666667\n",
      "Epoch    2/10 W: 0.933, Cost: 0.020741\n",
      "Epoch    3/10 W: 0.996, Cost: 0.000092\n",
      "Epoch    4/10 W: 1.000, Cost: 0.000000\n",
      "Epoch    5/10 W: 1.000, Cost: 0.000000\n",
      "Epoch    6/10 W: 1.000, Cost: 0.000000\n",
      "Epoch    7/10 W: 1.000, Cost: 0.000000\n",
      "Epoch    8/10 W: 1.000, Cost: 0.000000\n",
      "Epoch    9/10 W: 1.000, Cost: 0.000000\n",
      "Epoch   10/10 W: 1.000, Cost: 0.000000\n"
     ]
    }
   ],
   "source": [
    "for epoch in range(1, nb_epochs + 1):\n",
    "    hypothesis = x_train * W\n",
    "\n",
    "    cost = torch.mean((hypothesis - y_train) ** 2)\n",
    "    \n",
    "    print('Epoch {:4d}/{} W: {:.3f}, Cost: {:.6f}'.format(\n",
    "        epoch, nb_epochs, W.item(), cost.item()\n",
    "    ))\n",
    "\n",
    "    optimizer.zero_grad()\n",
    "    cost.backward()\n",
    "    optimizer.step()"
   ]
  }
 ],
 "metadata": {
  "interpreter": {
   "hash": "916dbcbb3f70747c44a77c7bcd40155683ae19c65e1c03b4aa3499c5328201f1"
  },
  "kernelspec": {
   "display_name": "Python 3.8.10 64-bit",
   "language": "python",
   "name": "python3"
  },
  "language_info": {
   "codemirror_mode": {
    "name": "ipython",
    "version": 3
   },
   "file_extension": ".py",
   "mimetype": "text/x-python",
   "name": "python",
   "nbconvert_exporter": "python",
   "pygments_lexer": "ipython3",
   "version": "3.8.10"
  },
  "orig_nbformat": 4
 },
 "nbformat": 4,
 "nbformat_minor": 2
}
