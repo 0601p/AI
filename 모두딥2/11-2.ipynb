{
 "cells": [
  {
   "cell_type": "markdown",
   "metadata": {},
   "source": [
    "hihello, charseq example"
   ]
  },
  {
   "cell_type": "code",
   "execution_count": 41,
   "metadata": {},
   "outputs": [],
   "source": [
    "import torch\n",
    "import numpy\n",
    "\n",
    "device = 'cuda' if torch.cuda.is_available() else 'cpu'"
   ]
  },
  {
   "cell_type": "markdown",
   "metadata": {},
   "source": [
    "hihello 데이터 준비"
   ]
  },
  {
   "cell_type": "code",
   "execution_count": 42,
   "metadata": {},
   "outputs": [],
   "source": [
    "char_set = ['h', 'i', 'e', 'l', 'o']\n",
    "\n",
    "input_size = len(char_set)\n",
    "hidden_size = len(char_set)\n",
    "learning_rate =0.1\n",
    "\n",
    "x_data = [[0, 1, 0, 2, 3, 3]]\n",
    "x_one_hot = [[[1, 0, 0, 0, 0],\n",
    "              [0, 1, 0, 0, 0],\n",
    "              [1, 0, 0, 0, 0],\n",
    "              [0, 0, 1, 0, 0],\n",
    "              [0, 0, 0, 1, 0],\n",
    "              [0, 0, 0, 1, 0]]]\n",
    "y_data = [[1, 0, 2, 3, 3, 4]]"
   ]
  },
  {
   "cell_type": "code",
   "execution_count": 43,
   "metadata": {},
   "outputs": [],
   "source": [
    "X = torch.FloatTensor(x_one_hot)\n",
    "Y = torch.LongTensor(y_data)"
   ]
  },
  {
   "cell_type": "markdown",
   "metadata": {},
   "source": [
    "charseq 데이터 준비"
   ]
  },
  {
   "cell_type": "code",
   "execution_count": 44,
   "metadata": {},
   "outputs": [],
   "source": [
    "sample = \" if you want you\"\n",
    "\n",
    "char_set = list(set(sample))\n",
    "char_dic = {c: i for i, c in enumerate(char_set)}\n",
    "\n",
    "input_size = len(sample)\n",
    "dic_size = len(char_dic)\n",
    "hidden_size = len(char_dic)\n",
    "learning_rate =0.1\n",
    "\n",
    "sample_idx = [char_dic[c] for c in sample]\n",
    "\n",
    "x_data = [sample_idx[:-1]]\n",
    "x_one_hot = [numpy.eye(dic_size)[x] for x in x_data]\n",
    "y_data = [sample_idx[1:]]"
   ]
  },
  {
   "cell_type": "code",
   "execution_count": 48,
   "metadata": {},
   "outputs": [
    {
     "name": "stdout",
     "output_type": "stream",
     "text": [
      "torch.Size([1, 15, 10])\n"
     ]
    }
   ],
   "source": [
    "X = torch.FloatTensor(x_one_hot)\n",
    "Y = torch.LongTensor(y_data)\n",
    "\n",
    "print(X.shape)"
   ]
  },
  {
   "cell_type": "code",
   "execution_count": 50,
   "metadata": {},
   "outputs": [],
   "source": [
    "rnn = torch.nn.RNN(dic_size, hidden_size, batch_first=True)\n",
    "\n",
    "criterion = torch.nn.CrossEntropyLoss()\n",
    "optimizer = torch.optim.Adam(rnn.parameters(), learning_rate)"
   ]
  },
  {
   "cell_type": "code",
   "execution_count": 55,
   "metadata": {},
   "outputs": [
    {
     "name": "stdout",
     "output_type": "stream",
     "text": [
      "0 loss: 1.606368899345398 prediction: [[5 5 5 8 9 6 5 5 7 6 5 5 8 9 6]] true Y: [[0, 4, 5, 8, 9, 6, 5, 2, 7, 1, 3, 5, 8, 9, 6]] prediction str:    you  au  you\n",
      "1 loss: 1.4645787477493286 prediction: [[0 5 5 8 9 6 5 2 7 6 5 5 8 9 6]] true Y: [[0, 4, 5, 8, 9, 6, 5, 2, 7, 1, 3, 5, 8, 9, 6]] prediction str: i  you wau  you\n",
      "2 loss: 1.367156982421875 prediction: [[0 5 5 8 9 6 5 2 7 6 5 5 8 9 6]] true Y: [[0, 4, 5, 8, 9, 6, 5, 2, 7, 1, 3, 5, 8, 9, 6]] prediction str: i  you wau  you\n",
      "3 loss: 1.3027245998382568 prediction: [[0 5 5 8 9 6 5 2 7 1 5 5 8 9 6]] true Y: [[0, 4, 5, 8, 9, 6, 5, 2, 7, 1, 3, 5, 8, 9, 6]] prediction str: i  you wan  you\n",
      "4 loss: 1.2384480237960815 prediction: [[0 5 5 8 9 6 5 2 7 1 5 5 8 9 6]] true Y: [[0, 4, 5, 8, 9, 6, 5, 2, 7, 1, 3, 5, 8, 9, 6]] prediction str: i  you wan  you\n",
      "5 loss: 1.1648560762405396 prediction: [[0 5 5 8 9 6 5 2 7 1 5 5 8 9 6]] true Y: [[0, 4, 5, 8, 9, 6, 5, 2, 7, 1, 3, 5, 8, 9, 6]] prediction str: i  you wan  you\n",
      "6 loss: 1.1102572679519653 prediction: [[0 4 5 8 9 6 5 2 7 1 5 5 8 9 6]] true Y: [[0, 4, 5, 8, 9, 6, 5, 2, 7, 1, 3, 5, 8, 9, 6]] prediction str: if you wan  you\n",
      "7 loss: 1.0726367235183716 prediction: [[0 4 5 8 9 6 5 2 7 1 5 4 8 9 6]] true Y: [[0, 4, 5, 8, 9, 6, 5, 2, 7, 1, 3, 5, 8, 9, 6]] prediction str: if you wan fyou\n",
      "8 loss: 1.0432307720184326 prediction: [[0 4 5 8 9 6 5 2 7 1 5 4 8 9 6]] true Y: [[0, 4, 5, 8, 9, 6, 5, 2, 7, 1, 3, 5, 8, 9, 6]] prediction str: if you wan fyou\n",
      "9 loss: 1.0172505378723145 prediction: [[0 4 5 8 9 6 5 2 7 1 5 4 8 9 6]] true Y: [[0, 4, 5, 8, 9, 6, 5, 2, 7, 1, 3, 5, 8, 9, 6]] prediction str: if you wan fyou\n",
      "10 loss: 0.995867133140564 prediction: [[0 4 5 8 9 6 5 2 7 1 5 5 8 9 6]] true Y: [[0, 4, 5, 8, 9, 6, 5, 2, 7, 1, 3, 5, 8, 9, 6]] prediction str: if you wan  you\n",
      "11 loss: 0.9811301827430725 prediction: [[0 4 5 8 9 6 5 2 7 1 5 5 8 9 6]] true Y: [[0, 4, 5, 8, 9, 6, 5, 2, 7, 1, 3, 5, 8, 9, 6]] prediction str: if you wan  you\n",
      "12 loss: 0.9701209664344788 prediction: [[0 4 5 8 9 6 5 2 7 1 5 5 8 9 6]] true Y: [[0, 4, 5, 8, 9, 6, 5, 2, 7, 1, 3, 5, 8, 9, 6]] prediction str: if you wan  you\n",
      "13 loss: 0.9590204954147339 prediction: [[0 4 5 8 9 6 5 2 7 1 5 5 8 9 6]] true Y: [[0, 4, 5, 8, 9, 6, 5, 2, 7, 1, 3, 5, 8, 9, 6]] prediction str: if you wan  you\n",
      "14 loss: 0.9462177753448486 prediction: [[0 4 5 8 9 6 5 2 7 1 5 5 8 9 6]] true Y: [[0, 4, 5, 8, 9, 6, 5, 2, 7, 1, 3, 5, 8, 9, 6]] prediction str: if you wan  you\n",
      "15 loss: 0.9331192374229431 prediction: [[0 4 5 8 9 6 8 2 7 1 5 5 8 9 6]] true Y: [[0, 4, 5, 8, 9, 6, 5, 2, 7, 1, 3, 5, 8, 9, 6]] prediction str: if youywan  you\n",
      "16 loss: 0.9212689995765686 prediction: [[0 4 5 8 9 6 8 2 7 1 3 5 8 9 6]] true Y: [[0, 4, 5, 8, 9, 6, 5, 2, 7, 1, 3, 5, 8, 9, 6]] prediction str: if youywant you\n",
      "17 loss: 0.9115794897079468 prediction: [[0 4 5 8 9 6 8 2 7 1 3 5 8 9 6]] true Y: [[0, 4, 5, 8, 9, 6, 5, 2, 7, 1, 3, 5, 8, 9, 6]] prediction str: if youywant you\n",
      "18 loss: 0.9048206806182861 prediction: [[0 4 5 8 9 6 8 2 7 1 3 5 8 9 6]] true Y: [[0, 4, 5, 8, 9, 6, 5, 2, 7, 1, 3, 5, 8, 9, 6]] prediction str: if youywant you\n",
      "19 loss: 0.9002644419670105 prediction: [[0 4 5 8 9 6 8 2 7 1 3 5 8 9 6]] true Y: [[0, 4, 5, 8, 9, 6, 5, 2, 7, 1, 3, 5, 8, 9, 6]] prediction str: if youywant you\n",
      "20 loss: 0.8946859240531921 prediction: [[0 4 5 8 9 6 8 2 7 1 3 5 8 9 6]] true Y: [[0, 4, 5, 8, 9, 6, 5, 2, 7, 1, 3, 5, 8, 9, 6]] prediction str: if youywant you\n",
      "21 loss: 0.887487530708313 prediction: [[0 4 5 8 9 6 8 2 7 1 3 5 8 9 6]] true Y: [[0, 4, 5, 8, 9, 6, 5, 2, 7, 1, 3, 5, 8, 9, 6]] prediction str: if youywant you\n",
      "22 loss: 0.881816029548645 prediction: [[0 4 5 8 9 6 5 2 7 1 3 5 8 9 6]] true Y: [[0, 4, 5, 8, 9, 6, 5, 2, 7, 1, 3, 5, 8, 9, 6]] prediction str: if you want you\n",
      "23 loss: 0.8780909776687622 prediction: [[0 4 5 8 9 6 5 2 7 1 3 5 8 9 6]] true Y: [[0, 4, 5, 8, 9, 6, 5, 2, 7, 1, 3, 5, 8, 9, 6]] prediction str: if you want you\n",
      "24 loss: 0.8752540946006775 prediction: [[0 4 5 8 9 6 5 2 7 1 3 5 8 9 6]] true Y: [[0, 4, 5, 8, 9, 6, 5, 2, 7, 1, 3, 5, 8, 9, 6]] prediction str: if you want you\n",
      "25 loss: 0.8725530505180359 prediction: [[0 4 5 8 9 6 5 2 7 1 3 5 8 9 6]] true Y: [[0, 4, 5, 8, 9, 6, 5, 2, 7, 1, 3, 5, 8, 9, 6]] prediction str: if you want you\n",
      "26 loss: 0.8698041439056396 prediction: [[0 4 5 8 9 6 5 2 7 1 3 5 8 9 6]] true Y: [[0, 4, 5, 8, 9, 6, 5, 2, 7, 1, 3, 5, 8, 9, 6]] prediction str: if you want you\n",
      "27 loss: 0.8671188950538635 prediction: [[0 4 5 8 9 6 5 2 7 1 3 5 8 9 6]] true Y: [[0, 4, 5, 8, 9, 6, 5, 2, 7, 1, 3, 5, 8, 9, 6]] prediction str: if you want you\n",
      "28 loss: 0.8645931482315063 prediction: [[0 4 5 8 9 6 5 2 7 1 3 5 8 9 6]] true Y: [[0, 4, 5, 8, 9, 6, 5, 2, 7, 1, 3, 5, 8, 9, 6]] prediction str: if you want you\n",
      "29 loss: 0.862224817276001 prediction: [[0 4 5 8 9 6 5 2 7 1 3 5 8 9 6]] true Y: [[0, 4, 5, 8, 9, 6, 5, 2, 7, 1, 3, 5, 8, 9, 6]] prediction str: if you want you\n",
      "30 loss: 0.8599807024002075 prediction: [[0 4 5 8 9 6 5 2 7 1 3 5 8 9 6]] true Y: [[0, 4, 5, 8, 9, 6, 5, 2, 7, 1, 3, 5, 8, 9, 6]] prediction str: if you want you\n",
      "31 loss: 0.8577776551246643 prediction: [[0 4 5 8 9 6 5 2 7 1 3 5 8 9 6]] true Y: [[0, 4, 5, 8, 9, 6, 5, 2, 7, 1, 3, 5, 8, 9, 6]] prediction str: if you want you\n",
      "32 loss: 0.8554231524467468 prediction: [[0 4 5 8 9 6 5 2 7 1 3 5 8 9 6]] true Y: [[0, 4, 5, 8, 9, 6, 5, 2, 7, 1, 3, 5, 8, 9, 6]] prediction str: if you want you\n",
      "33 loss: 0.8526071310043335 prediction: [[0 4 5 8 9 6 5 2 7 1 3 5 8 9 6]] true Y: [[0, 4, 5, 8, 9, 6, 5, 2, 7, 1, 3, 5, 8, 9, 6]] prediction str: if you want you\n",
      "34 loss: 0.8489025831222534 prediction: [[0 4 5 8 9 6 5 2 7 1 3 5 8 9 6]] true Y: [[0, 4, 5, 8, 9, 6, 5, 2, 7, 1, 3, 5, 8, 9, 6]] prediction str: if you want you\n",
      "35 loss: 0.8439009785652161 prediction: [[0 4 5 8 9 6 5 2 7 1 3 5 8 9 6]] true Y: [[0, 4, 5, 8, 9, 6, 5, 2, 7, 1, 3, 5, 8, 9, 6]] prediction str: if you want you\n",
      "36 loss: 0.8382473587989807 prediction: [[0 4 5 8 9 6 5 2 7 1 3 5 8 9 6]] true Y: [[0, 4, 5, 8, 9, 6, 5, 2, 7, 1, 3, 5, 8, 9, 6]] prediction str: if you want you\n",
      "37 loss: 0.8348268866539001 prediction: [[0 4 5 8 9 6 5 2 7 1 3 5 8 9 6]] true Y: [[0, 4, 5, 8, 9, 6, 5, 2, 7, 1, 3, 5, 8, 9, 6]] prediction str: if you want you\n",
      "38 loss: 0.833146333694458 prediction: [[0 4 5 8 9 6 5 2 7 1 3 5 8 9 6]] true Y: [[0, 4, 5, 8, 9, 6, 5, 2, 7, 1, 3, 5, 8, 9, 6]] prediction str: if you want you\n",
      "39 loss: 0.8308678865432739 prediction: [[0 4 5 8 9 6 5 2 7 1 3 5 8 9 6]] true Y: [[0, 4, 5, 8, 9, 6, 5, 2, 7, 1, 3, 5, 8, 9, 6]] prediction str: if you want you\n",
      "40 loss: 0.8293282389640808 prediction: [[0 4 5 8 9 6 5 2 7 1 3 5 8 9 6]] true Y: [[0, 4, 5, 8, 9, 6, 5, 2, 7, 1, 3, 5, 8, 9, 6]] prediction str: if you want you\n",
      "41 loss: 0.8269917368888855 prediction: [[0 4 5 8 9 6 5 2 7 1 3 5 8 9 6]] true Y: [[0, 4, 5, 8, 9, 6, 5, 2, 7, 1, 3, 5, 8, 9, 6]] prediction str: if you want you\n",
      "42 loss: 0.824283242225647 prediction: [[0 4 5 8 9 6 5 2 7 1 3 5 8 9 6]] true Y: [[0, 4, 5, 8, 9, 6, 5, 2, 7, 1, 3, 5, 8, 9, 6]] prediction str: if you want you\n",
      "43 loss: 0.8232506513595581 prediction: [[0 4 5 8 9 6 5 2 7 1 3 5 8 9 6]] true Y: [[0, 4, 5, 8, 9, 6, 5, 2, 7, 1, 3, 5, 8, 9, 6]] prediction str: if you want you\n",
      "44 loss: 0.8218804001808167 prediction: [[0 4 5 8 9 6 5 2 7 1 3 5 8 9 6]] true Y: [[0, 4, 5, 8, 9, 6, 5, 2, 7, 1, 3, 5, 8, 9, 6]] prediction str: if you want you\n",
      "45 loss: 0.8210012912750244 prediction: [[0 4 5 8 9 6 5 2 7 1 3 5 8 9 6]] true Y: [[0, 4, 5, 8, 9, 6, 5, 2, 7, 1, 3, 5, 8, 9, 6]] prediction str: if you want you\n",
      "46 loss: 0.8208431005477905 prediction: [[0 4 5 8 9 6 5 2 7 1 3 5 8 9 6]] true Y: [[0, 4, 5, 8, 9, 6, 5, 2, 7, 1, 3, 5, 8, 9, 6]] prediction str: if you want you\n",
      "47 loss: 0.8201290369033813 prediction: [[0 4 5 8 9 6 5 2 7 1 3 5 8 9 6]] true Y: [[0, 4, 5, 8, 9, 6, 5, 2, 7, 1, 3, 5, 8, 9, 6]] prediction str: if you want you\n",
      "48 loss: 0.819246232509613 prediction: [[0 4 5 8 9 6 5 2 7 1 3 5 8 9 6]] true Y: [[0, 4, 5, 8, 9, 6, 5, 2, 7, 1, 3, 5, 8, 9, 6]] prediction str: if you want you\n",
      "49 loss: 0.8187220692634583 prediction: [[0 4 5 8 9 6 5 2 7 1 3 5 8 9 6]] true Y: [[0, 4, 5, 8, 9, 6, 5, 2, 7, 1, 3, 5, 8, 9, 6]] prediction str: if you want you\n",
      "50 loss: 0.8178091049194336 prediction: [[0 4 5 8 9 6 5 2 7 1 3 5 8 9 6]] true Y: [[0, 4, 5, 8, 9, 6, 5, 2, 7, 1, 3, 5, 8, 9, 6]] prediction str: if you want you\n",
      "51 loss: 0.8172850012779236 prediction: [[0 4 5 8 9 6 5 2 7 1 3 5 8 9 6]] true Y: [[0, 4, 5, 8, 9, 6, 5, 2, 7, 1, 3, 5, 8, 9, 6]] prediction str: if you want you\n",
      "52 loss: 0.8169277310371399 prediction: [[0 4 5 8 9 6 5 2 7 1 3 5 8 9 6]] true Y: [[0, 4, 5, 8, 9, 6, 5, 2, 7, 1, 3, 5, 8, 9, 6]] prediction str: if you want you\n",
      "53 loss: 0.8163489699363708 prediction: [[0 4 5 8 9 6 5 2 7 1 3 5 8 9 6]] true Y: [[0, 4, 5, 8, 9, 6, 5, 2, 7, 1, 3, 5, 8, 9, 6]] prediction str: if you want you\n",
      "54 loss: 0.8159328699111938 prediction: [[0 4 5 8 9 6 5 2 7 1 3 5 8 9 6]] true Y: [[0, 4, 5, 8, 9, 6, 5, 2, 7, 1, 3, 5, 8, 9, 6]] prediction str: if you want you\n",
      "55 loss: 0.8155118823051453 prediction: [[0 4 5 8 9 6 5 2 7 1 3 5 8 9 6]] true Y: [[0, 4, 5, 8, 9, 6, 5, 2, 7, 1, 3, 5, 8, 9, 6]] prediction str: if you want you\n",
      "56 loss: 0.815123438835144 prediction: [[0 4 5 8 9 6 5 2 7 1 3 5 8 9 6]] true Y: [[0, 4, 5, 8, 9, 6, 5, 2, 7, 1, 3, 5, 8, 9, 6]] prediction str: if you want you\n",
      "57 loss: 0.814974844455719 prediction: [[0 4 5 8 9 6 5 2 7 1 3 5 8 9 6]] true Y: [[0, 4, 5, 8, 9, 6, 5, 2, 7, 1, 3, 5, 8, 9, 6]] prediction str: if you want you\n",
      "58 loss: 0.8147212862968445 prediction: [[0 4 5 8 9 6 5 2 7 1 3 5 8 9 6]] true Y: [[0, 4, 5, 8, 9, 6, 5, 2, 7, 1, 3, 5, 8, 9, 6]] prediction str: if you want you\n",
      "59 loss: 0.814476728439331 prediction: [[0 4 5 8 9 6 5 2 7 1 3 5 8 9 6]] true Y: [[0, 4, 5, 8, 9, 6, 5, 2, 7, 1, 3, 5, 8, 9, 6]] prediction str: if you want you\n",
      "60 loss: 0.8142712712287903 prediction: [[0 4 5 8 9 6 5 2 7 1 3 5 8 9 6]] true Y: [[0, 4, 5, 8, 9, 6, 5, 2, 7, 1, 3, 5, 8, 9, 6]] prediction str: if you want you\n",
      "61 loss: 0.8139277696609497 prediction: [[0 4 5 8 9 6 5 2 7 1 3 5 8 9 6]] true Y: [[0, 4, 5, 8, 9, 6, 5, 2, 7, 1, 3, 5, 8, 9, 6]] prediction str: if you want you\n",
      "62 loss: 0.8137000203132629 prediction: [[0 4 5 8 9 6 5 2 7 1 3 5 8 9 6]] true Y: [[0, 4, 5, 8, 9, 6, 5, 2, 7, 1, 3, 5, 8, 9, 6]] prediction str: if you want you\n",
      "63 loss: 0.813470184803009 prediction: [[0 4 5 8 9 6 5 2 7 1 3 5 8 9 6]] true Y: [[0, 4, 5, 8, 9, 6, 5, 2, 7, 1, 3, 5, 8, 9, 6]] prediction str: if you want you\n",
      "64 loss: 0.8132302761077881 prediction: [[0 4 5 8 9 6 5 2 7 1 3 5 8 9 6]] true Y: [[0, 4, 5, 8, 9, 6, 5, 2, 7, 1, 3, 5, 8, 9, 6]] prediction str: if you want you\n",
      "65 loss: 0.8130726218223572 prediction: [[0 4 5 8 9 6 5 2 7 1 3 5 8 9 6]] true Y: [[0, 4, 5, 8, 9, 6, 5, 2, 7, 1, 3, 5, 8, 9, 6]] prediction str: if you want you\n",
      "66 loss: 0.8128408789634705 prediction: [[0 4 5 8 9 6 5 2 7 1 3 5 8 9 6]] true Y: [[0, 4, 5, 8, 9, 6, 5, 2, 7, 1, 3, 5, 8, 9, 6]] prediction str: if you want you\n",
      "67 loss: 0.8126420974731445 prediction: [[0 4 5 8 9 6 5 2 7 1 3 5 8 9 6]] true Y: [[0, 4, 5, 8, 9, 6, 5, 2, 7, 1, 3, 5, 8, 9, 6]] prediction str: if you want you\n",
      "68 loss: 0.8124602437019348 prediction: [[0 4 5 8 9 6 5 2 7 1 3 5 8 9 6]] true Y: [[0, 4, 5, 8, 9, 6, 5, 2, 7, 1, 3, 5, 8, 9, 6]] prediction str: if you want you\n",
      "69 loss: 0.812268853187561 prediction: [[0 4 5 8 9 6 5 2 7 1 3 5 8 9 6]] true Y: [[0, 4, 5, 8, 9, 6, 5, 2, 7, 1, 3, 5, 8, 9, 6]] prediction str: if you want you\n",
      "70 loss: 0.8121457695960999 prediction: [[0 4 5 8 9 6 5 2 7 1 3 5 8 9 6]] true Y: [[0, 4, 5, 8, 9, 6, 5, 2, 7, 1, 3, 5, 8, 9, 6]] prediction str: if you want you\n",
      "71 loss: 0.8119973540306091 prediction: [[0 4 5 8 9 6 5 2 7 1 3 5 8 9 6]] true Y: [[0, 4, 5, 8, 9, 6, 5, 2, 7, 1, 3, 5, 8, 9, 6]] prediction str: if you want you\n",
      "72 loss: 0.8118588924407959 prediction: [[0 4 5 8 9 6 5 2 7 1 3 5 8 9 6]] true Y: [[0, 4, 5, 8, 9, 6, 5, 2, 7, 1, 3, 5, 8, 9, 6]] prediction str: if you want you\n",
      "73 loss: 0.8117256164550781 prediction: [[0 4 5 8 9 6 5 2 7 1 3 5 8 9 6]] true Y: [[0, 4, 5, 8, 9, 6, 5, 2, 7, 1, 3, 5, 8, 9, 6]] prediction str: if you want you\n",
      "74 loss: 0.8115625977516174 prediction: [[0 4 5 8 9 6 5 2 7 1 3 5 8 9 6]] true Y: [[0, 4, 5, 8, 9, 6, 5, 2, 7, 1, 3, 5, 8, 9, 6]] prediction str: if you want you\n",
      "75 loss: 0.8114339709281921 prediction: [[0 4 5 8 9 6 5 2 7 1 3 5 8 9 6]] true Y: [[0, 4, 5, 8, 9, 6, 5, 2, 7, 1, 3, 5, 8, 9, 6]] prediction str: if you want you\n",
      "76 loss: 0.8112962245941162 prediction: [[0 4 5 8 9 6 5 2 7 1 3 5 8 9 6]] true Y: [[0, 4, 5, 8, 9, 6, 5, 2, 7, 1, 3, 5, 8, 9, 6]] prediction str: if you want you\n",
      "77 loss: 0.8111761808395386 prediction: [[0 4 5 8 9 6 5 2 7 1 3 5 8 9 6]] true Y: [[0, 4, 5, 8, 9, 6, 5, 2, 7, 1, 3, 5, 8, 9, 6]] prediction str: if you want you\n",
      "78 loss: 0.8110681176185608 prediction: [[0 4 5 8 9 6 5 2 7 1 3 5 8 9 6]] true Y: [[0, 4, 5, 8, 9, 6, 5, 2, 7, 1, 3, 5, 8, 9, 6]] prediction str: if you want you\n",
      "79 loss: 0.8109463453292847 prediction: [[0 4 5 8 9 6 5 2 7 1 3 5 8 9 6]] true Y: [[0, 4, 5, 8, 9, 6, 5, 2, 7, 1, 3, 5, 8, 9, 6]] prediction str: if you want you\n",
      "80 loss: 0.8108432292938232 prediction: [[0 4 5 8 9 6 5 2 7 1 3 5 8 9 6]] true Y: [[0, 4, 5, 8, 9, 6, 5, 2, 7, 1, 3, 5, 8, 9, 6]] prediction str: if you want you\n",
      "81 loss: 0.8107255101203918 prediction: [[0 4 5 8 9 6 5 2 7 1 3 5 8 9 6]] true Y: [[0, 4, 5, 8, 9, 6, 5, 2, 7, 1, 3, 5, 8, 9, 6]] prediction str: if you want you\n",
      "82 loss: 0.810623824596405 prediction: [[0 4 5 8 9 6 5 2 7 1 3 5 8 9 6]] true Y: [[0, 4, 5, 8, 9, 6, 5, 2, 7, 1, 3, 5, 8, 9, 6]] prediction str: if you want you\n",
      "83 loss: 0.8105229139328003 prediction: [[0 4 5 8 9 6 5 2 7 1 3 5 8 9 6]] true Y: [[0, 4, 5, 8, 9, 6, 5, 2, 7, 1, 3, 5, 8, 9, 6]] prediction str: if you want you\n",
      "84 loss: 0.8104230165481567 prediction: [[0 4 5 8 9 6 5 2 7 1 3 5 8 9 6]] true Y: [[0, 4, 5, 8, 9, 6, 5, 2, 7, 1, 3, 5, 8, 9, 6]] prediction str: if you want you\n",
      "85 loss: 0.8103318810462952 prediction: [[0 4 5 8 9 6 5 2 7 1 3 5 8 9 6]] true Y: [[0, 4, 5, 8, 9, 6, 5, 2, 7, 1, 3, 5, 8, 9, 6]] prediction str: if you want you\n",
      "86 loss: 0.8102309703826904 prediction: [[0 4 5 8 9 6 5 2 7 1 3 5 8 9 6]] true Y: [[0, 4, 5, 8, 9, 6, 5, 2, 7, 1, 3, 5, 8, 9, 6]] prediction str: if you want you\n",
      "87 loss: 0.8101396560668945 prediction: [[0 4 5 8 9 6 5 2 7 1 3 5 8 9 6]] true Y: [[0, 4, 5, 8, 9, 6, 5, 2, 7, 1, 3, 5, 8, 9, 6]] prediction str: if you want you\n",
      "88 loss: 0.8100417852401733 prediction: [[0 4 5 8 9 6 5 2 7 1 3 5 8 9 6]] true Y: [[0, 4, 5, 8, 9, 6, 5, 2, 7, 1, 3, 5, 8, 9, 6]] prediction str: if you want you\n",
      "89 loss: 0.8099523782730103 prediction: [[0 4 5 8 9 6 5 2 7 1 3 5 8 9 6]] true Y: [[0, 4, 5, 8, 9, 6, 5, 2, 7, 1, 3, 5, 8, 9, 6]] prediction str: if you want you\n",
      "90 loss: 0.8098644614219666 prediction: [[0 4 5 8 9 6 5 2 7 1 3 5 8 9 6]] true Y: [[0, 4, 5, 8, 9, 6, 5, 2, 7, 1, 3, 5, 8, 9, 6]] prediction str: if you want you\n",
      "91 loss: 0.8097803592681885 prediction: [[0 4 5 8 9 6 5 2 7 1 3 5 8 9 6]] true Y: [[0, 4, 5, 8, 9, 6, 5, 2, 7, 1, 3, 5, 8, 9, 6]] prediction str: if you want you\n",
      "92 loss: 0.8097009062767029 prediction: [[0 4 5 8 9 6 5 2 7 1 3 5 8 9 6]] true Y: [[0, 4, 5, 8, 9, 6, 5, 2, 7, 1, 3, 5, 8, 9, 6]] prediction str: if you want you\n",
      "93 loss: 0.8096193671226501 prediction: [[0 4 5 8 9 6 5 2 7 1 3 5 8 9 6]] true Y: [[0, 4, 5, 8, 9, 6, 5, 2, 7, 1, 3, 5, 8, 9, 6]] prediction str: if you want you\n",
      "94 loss: 0.809543251991272 prediction: [[0 4 5 8 9 6 5 2 7 1 3 5 8 9 6]] true Y: [[0, 4, 5, 8, 9, 6, 5, 2, 7, 1, 3, 5, 8, 9, 6]] prediction str: if you want you\n",
      "95 loss: 0.8094640374183655 prediction: [[0 4 5 8 9 6 5 2 7 1 3 5 8 9 6]] true Y: [[0, 4, 5, 8, 9, 6, 5, 2, 7, 1, 3, 5, 8, 9, 6]] prediction str: if you want you\n",
      "96 loss: 0.8093899488449097 prediction: [[0 4 5 8 9 6 5 2 7 1 3 5 8 9 6]] true Y: [[0, 4, 5, 8, 9, 6, 5, 2, 7, 1, 3, 5, 8, 9, 6]] prediction str: if you want you\n",
      "97 loss: 0.8093151450157166 prediction: [[0 4 5 8 9 6 5 2 7 1 3 5 8 9 6]] true Y: [[0, 4, 5, 8, 9, 6, 5, 2, 7, 1, 3, 5, 8, 9, 6]] prediction str: if you want you\n",
      "98 loss: 0.8092432618141174 prediction: [[0 4 5 8 9 6 5 2 7 1 3 5 8 9 6]] true Y: [[0, 4, 5, 8, 9, 6, 5, 2, 7, 1, 3, 5, 8, 9, 6]] prediction str: if you want you\n",
      "99 loss: 0.8091725707054138 prediction: [[0 4 5 8 9 6 5 2 7 1 3 5 8 9 6]] true Y: [[0, 4, 5, 8, 9, 6, 5, 2, 7, 1, 3, 5, 8, 9, 6]] prediction str: if you want you\n"
     ]
    }
   ],
   "source": [
    "for i in range(100):\n",
    "    optimizer.zero_grad()\n",
    "    outputs, _status = rnn(X)\n",
    "    loss = criterion(outputs.view(-1, dic_size), Y.view(-1))\n",
    "    loss.backward()\n",
    "    optimizer.step()\n",
    "    result = outputs.detach().numpy().argmax(axis=2)\n",
    "    result_str = ''.join(char_set[c] for c in numpy.squeeze(result))\n",
    "\n",
    "    print(i, \"loss:\", loss.item(), \"prediction:\", result, \"true Y:\", y_data, \"prediction str:\", result_str)\n"
   ]
  }
 ],
 "metadata": {
  "interpreter": {
   "hash": "f67e6345ed4365623c282e2628f58a8ac3d97e420735cebfc003674bed6fdf62"
  },
  "kernelspec": {
   "display_name": "Python 3.7.9 64-bit",
   "language": "python",
   "name": "python3"
  },
  "language_info": {
   "codemirror_mode": {
    "name": "ipython",
    "version": 3
   },
   "file_extension": ".py",
   "mimetype": "text/x-python",
   "name": "python",
   "nbconvert_exporter": "python",
   "pygments_lexer": "ipython3",
   "version": "3.7.9"
  },
  "orig_nbformat": 4
 },
 "nbformat": 4,
 "nbformat_minor": 2
}
